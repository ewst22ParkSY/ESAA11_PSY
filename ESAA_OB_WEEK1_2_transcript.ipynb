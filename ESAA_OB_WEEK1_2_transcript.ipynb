{
  "nbformat": 4,
  "nbformat_minor": 0,
  "metadata": {
    "colab": {
      "provenance": [],
      "authorship_tag": "ABX9TyOZfeWIce+WfzDTBdOot9ms",
      "include_colab_link": true
    },
    "kernelspec": {
      "name": "python3",
      "display_name": "Python 3"
    },
    "language_info": {
      "name": "python"
    }
  },
  "cells": [
    {
      "cell_type": "markdown",
      "metadata": {
        "id": "view-in-github",
        "colab_type": "text"
      },
      "source": [
        "<a href=\"https://colab.research.google.com/github/ewst22ParkSY/ESAA11_PSY/blob/ESAA11_OB/ESAA_OB_WEEK1_2_transcript.ipynb\" target=\"_parent\"><img src=\"https://colab.research.google.com/assets/colab-badge.svg\" alt=\"Open In Colab\"/></a>"
      ]
    },
    {
      "cell_type": "markdown",
      "source": [
        "## 5. 규제가 있는 선형 모델\n",
        "\n",
        "- 과대적합을 감소시키는 좋은 방법은 모델을 규제하는 것.\n",
        "- 자유도를 줄이면 데이터에 과대적합되기 더 어려워짐\n",
        "\n",
        "다항 회귀 모델을 규제하는 간단한 방법은 다항식의 차수를 감소시키는 것\n",
        "\n",
        "ex) '릿지', '라쏘', 엘라스틱넷 회귀"
      ],
      "metadata": {
        "id": "aruVVKbUPd5B"
      }
    },
    {
      "cell_type": "markdown",
      "source": [
        "### 5.1 릿지 회귀\n",
        "\n",
        "릿지회귀\n",
        "- 규제가 추가된 선형 회귀 버전\n",
        "- 규제항 $aΣ_{i=1}^n\\theta_i^2$이 비용함수로 추가 (훈련하는 동안에만 비용 함수에 추가)\n",
        "- 학습알고리즘을 데이터에 맞추는 것뿐만 아니라 모델의 가중치가 가능한 한 작게 유지되도록 노력\n",
        "- 모델의 훈련이 끝나면 모델의 성능을규제가 없는 성능 지표로 평가\n",
        "\n",
        "하이퍼 파라미터 $\\alpha$: 모델을 얼마나 많이 규제할지 조절\n",
        "- $\\alpha=0$인 경우, 릿지 회귀 = 선형 회귀\n",
        "-  $\\alpha$가 아주 큰 경우, 가중치가 0에 가까워지고 데이터의 평균을 지나는 수평선이 됨.\n",
        "\n",
        "릿지 회귀의 비용함수    \n",
        "> $J(\\theta) = MSE(\\theta) + \\alpha \\frac{1}{2}Σ_{i=1}^n\\theta_i^2$\n",
        "\n",
        "편향 $\\theta_0$는 규제되지 않음.\n",
        "\n",
        "릿지 회귀 계산 방법 : 정규방정식 OR 경사 하강법\n",
        "\n",
        "릿지 회귀의 정규방정식        \n",
        "$\\hat{\\theta} = (X^TX+\\alpha A)^{-1}X^Ty$\n"
      ],
      "metadata": {
        "id": "oUh-wqCKPxJ0"
      }
    },
    {
      "cell_type": "code",
      "source": [
        "import numpy as np\n",
        "import matplotlib.pyplot as plt\n",
        "\n",
        "m = 100\n",
        "\n",
        "X = 6 * np.random.rand(m, 1) -3\n",
        "y = 0.5 * X**2 + X + 2 + np.random.randn(m,1)"
      ],
      "metadata": {
        "id": "Q5Rqo21sVzdv"
      },
      "execution_count": 3,
      "outputs": []
    },
    {
      "cell_type": "code",
      "execution_count": 5,
      "metadata": {
        "id": "FsJWzqBkKsf6",
        "colab": {
          "base_uri": "https://localhost:8080/"
        },
        "outputId": "dbb07fd3-b4f1-4acd-e562-8af9aaceed24"
      },
      "outputs": [
        {
          "output_type": "execute_result",
          "data": {
            "text/plain": [
              "array([5.03434106])"
            ]
          },
          "metadata": {},
          "execution_count": 5
        }
      ],
      "source": [
        "# 사이킷런에서 정규방정식을 사용한 릿지 회귀를 적용하는 예\n",
        "\n",
        "from sklearn.linear_model import Ridge\n",
        "ridge_reg = Ridge(alpha=1, solver=\"cholesky\")\n",
        "ridge_reg.fit(X,y)\n",
        "ridge_reg.predict([[1.5]])"
      ]
    },
    {
      "cell_type": "code",
      "source": [
        "# 확률적 경사 하강법을 사용했을 때\n",
        "\n",
        "from sklearn.linear_model import SGDRegressor\n",
        "\n",
        "sgd_reg = SGDRegressor(penalty=\"l2\") #l2는 SGD가 비용 함수에 가중치 벡터의 노름의 제곱을 2로 나눈 규제항을 추가하게 만듦.\n",
        "sgd_reg.fit(X, y.ravel())\n",
        "sgd_reg.predict([[1.5]])\n"
      ],
      "metadata": {
        "colab": {
          "base_uri": "https://localhost:8080/"
        },
        "id": "ewYJxBBrVmWB",
        "outputId": "d22c1994-ed5f-4aa6-b98d-b6cd7bd5f801"
      },
      "execution_count": 7,
      "outputs": [
        {
          "output_type": "execute_result",
          "data": {
            "text/plain": [
              "array([4.99699829])"
            ]
          },
          "metadata": {},
          "execution_count": 7
        }
      ]
    },
    {
      "cell_type": "markdown",
      "source": [
        "### 5.2 라쏘 회귀\n",
        "\n",
        "- 선형 회귀의 또 다른 규제된 버전\n",
        "- 비용 함수에 규제항을 더하지만, 가중치 벡터의 l2 노름을 사용.\n",
        "- 중요 특징: 덜 중요한 특성의 가중치를 제거하려고 한다는 점\n",
        "- 자동으로 특성 선택을 하고 희소 모델(sparse model)을 만듦.\n",
        "> 0이 아닌 특성의 가중치가 적음.\n",
        "- 경사 하강법이 최적점 근처에서 진동하는 것을 막으려면 훈련하는 동안 점진적으로 학습률을 감소시켜야 함.\n",
        "\n",
        "라쏘의 비용 함수는 $\\theta_i=0$에서 미분 가능하지 않음. 하지만 $\\theta_i=0$에서 서브그라디언트 벡터 g를 사용하면 경사 하강법을 적용하는 데 문제가 없음."
      ],
      "metadata": {
        "id": "heNp6cSYWakJ"
      }
    },
    {
      "cell_type": "code",
      "source": [
        "# Lasso 클래스를 사용한 간단한 사이킷런 예제\n",
        "\n",
        "from sklearn.linear_model import Lasso\n",
        "\n",
        "lasso_reg = Lasso(alpha=0.1)\n",
        "lasso_reg.fit(X, y)\n",
        "lasso_reg.predict([[1.5]])"
      ],
      "metadata": {
        "colab": {
          "base_uri": "https://localhost:8080/"
        },
        "id": "ukpsqjbdWPq9",
        "outputId": "ee7c4994-49b2-44f5-d300-f6efa9a72d6c"
      },
      "execution_count": 8,
      "outputs": [
        {
          "output_type": "execute_result",
          "data": {
            "text/plain": [
              "array([4.97668948])"
            ]
          },
          "metadata": {},
          "execution_count": 8
        }
      ]
    },
    {
      "cell_type": "markdown",
      "source": [
        "참고: Lasso 대신 ```SGDRegressor(penalty=\"l2\")```를 사용할 수도 있음."
      ],
      "metadata": {
        "id": "FKBQqLEjZjeu"
      }
    },
    {
      "cell_type": "markdown",
      "source": [
        "### 5.3 엘라스틱넷\n",
        "- 릿지 회귀와 라쏘 회귀를 절충한 모델\n",
        "- 릿지와 회귀의 규제항을 단순히 더해서 사용하며, 혼합정도는 혼합 비율 r을 사용해 조절. r=0이면 엘라스틱넷은 릿지 회귀와 같고, r=1이면 라쏘 회귀와 같음.\n",
        "\n",
        "엘라스틱넷을 선호하는 상황\n",
        "- 특성 수가 훈련 샘플 수보다 많음 <br>\n",
        "OR\n",
        "- 특성 몇 개가 강하게 연관되어 있을 때\n",
        "\n"
      ],
      "metadata": {
        "id": "IfxgRHa1ZwP7"
      }
    },
    {
      "cell_type": "code",
      "source": [
        "# 사이킷런의 ElasticNet을 사용한 간단한 예제\n",
        "\n",
        "from sklearn.linear_model import ElasticNet\n",
        "elastic_net = ElasticNet(alpha=0.1, l1_ratio=0.5)\n",
        "elastic_net.fit(X, y)\n",
        "elastic_net.predict([[1.5]])"
      ],
      "metadata": {
        "colab": {
          "base_uri": "https://localhost:8080/"
        },
        "id": "XdBEa6BcZXKl",
        "outputId": "1cdde350-ce1e-461c-da0e-ea49092b976a"
      },
      "execution_count": 10,
      "outputs": [
        {
          "output_type": "execute_result",
          "data": {
            "text/plain": [
              "array([4.97717918])"
            ]
          },
          "metadata": {},
          "execution_count": 10
        }
      ]
    },
    {
      "cell_type": "markdown",
      "source": [
        "### 5.4 조기 종료(Early Stopping)\n",
        "- 검증 에러가 최솟값에 도달하면 바로 훈련을 중지시키는 것\n",
        "- 에포크가 진행됨에 따라 알고리즘이 점차 학습되어 훈련 세트에 대한 예측 에러(RMSE)와 검증 세트에 대한 예측 에러가 줄어듦. > 감소하던 검증 에러가 멈추었다가 다시 상승 > 모델이 훈련 데이터에 과대적합되기 시작됨을 의미\n",
        "\n"
      ],
      "metadata": {
        "id": "PonI-rk3bBIT"
      }
    },
    {
      "cell_type": "code",
      "source": [
        "# 조기 종료를 위한 기본적인 구현 코드\n",
        "\n",
        "from sklearn.base import clone\n",
        "from sklearn.pipeline import Pipeline\n",
        "from sklearn.preprocessing import PolynomialFeatures\n",
        "from sklearn.preprocessing import StandardScaler\n",
        "\n",
        "X_train, X_val, y_train, y_val = train_test_split(X, y, test_size=0.2)\n",
        "\n",
        "# 데이터 준비\n",
        "poly_scaler = Pipeline([\n",
        "    (\"poly_features\", PolynomialFeatures(degree=90, include_bias=False)),\n",
        "    (\"std_scaler\", StandardScaler())\n",
        "])\n",
        "X_train_poly_scaled = poly_scaler.fit_transform(X_train)\n",
        "X_val_poly_scaled = poly_scaler.transform(X_val)\n",
        "\n",
        "sgd_reg = SGDRegressor(max_iter=1, tol=None, warm_start=True,\n",
        "                       penalty=None, learning_rate=\"constant\", eta0=0.0005)\n",
        "\n",
        "\n",
        "minimum_val_error = float(\"inf\")\n",
        "best_epoch = None\n",
        "best_model = None\n",
        "for epoch in range(1000):\n",
        "    sgd_reg.fit(X_train_poly_scaled,y_train.ravel()) # 훈련을 이어서 진행\n",
        "    y_val_predict = sgd_reg.predict(X_val_poly_scaled)\n",
        "    val_error = mean_squared_error(y_val, y_val_predict)\n",
        "    if val_error < minimum_val_error:\n",
        "        minimum_val_error = val_error\n",
        "        best_epoch = epoch\n",
        "        best_model = clone(sgd_reg)"
      ],
      "metadata": {
        "id": "tA-F31EwdA6o"
      },
      "execution_count": 22,
      "outputs": []
    },
    {
      "cell_type": "markdown",
      "source": [
        "## 6. 로지스틱 회귀\n",
        "- 샘플이 특정 클래스에 속할 확률을 추정하는 데 널리 사용\n",
        "- 추정 확률이 50%가 넘을 시 속함, 아닐 시 속하지 않음이라 예측. > 이진 분류기\n",
        "\n",
        "### 6.1 확률 추정\n",
        "- 로지스틱 회귀 모델은 입력 특성의 가중치 합을 계산(+편향)\n",
        "- 선형 회귀처럼 바로 결과를 출력하는 것이 아니라 결괏값의 **로지스틱**을 출력\n",
        "- **로지스틱**은 0과 1 사이의 값을 출력하는 **시그모이드 함수**.(S자 형태)\n",
        "\n",
        "### 6.2 훈련과 비용 함수\n",
        "- 훈련의 목적: 양성 샘플(y=1)에 대해서는 높은 확률을 추정하고 음성 샘플(y=0)에 대해서는 낮은 확률을 추정하는 모델의 파라미터 벡터를 찾는 것.\n",
        "- t가 0에 가까워지면 -log(t)가 매우 커지므로 타당 > 모델이 양성 샘플을 0에 가까운 확률로 추정하면 비용이 매우 크게 증가\n",
        "- t가 1에 가까우면 -log(t)는 0에 가까워짐. > 기대한 대로 음성 샘플의 확률을 0에 가깝게 추정하거나 양성 샘플의 확률을 1에 가깝게 추정하면 비용은 0에 가까워짐."
      ],
      "metadata": {
        "id": "QDngR7IhfG01"
      }
    },
    {
      "cell_type": "markdown",
      "source": [
        "로지스틱 회귀의 비용 함수       \n",
        "![image.png](data:image/png;base64,iVBORw0KGgoAAAANSUhEUgAAAbQAAABgCAYAAAB17IfLAAAAAXNSR0IArs4c6QAAAARnQU1BAACxjwv8YQUAAAAJcEhZcwAADsMAAA7DAcdvqGQAAISZSURBVHhe7J13nBRF+v/fVd0zszmw7AJLRgVFjJhQUDEAxjPHM+eEWQycoqKYc8acMet5ZkBQBESSSs6ZXZbNuzPToer3R3UPwwrmu++dv/m8Xs2wM93VFZ56nnpCPSW01poMMsgggwwy+B+HbPlFBhlkkEEGGfwvIiPQMsgggwwy+EsgI9AyyCCDDDL4SyAj0DLIIIMMMvhLQPy7gkI2V6wQouVX/18g7A8hBFrr/2/7IYMMMsjg34U/JNB+6dH030MG/v8rI9dapwSZ1hopM8pxBhlkkMGfid/MVUPG/HOX7/sopVL/F0L8fyvI0pHeRxlkkEEGGfy5+M0CjRaMWSmF53k/YdShMPM8L/V7BhuglEoJ/X8X0sdIKdXy51+N9HJ+S33De3/rcxlswO/t+wwy+P8Rv0ughWazcIKF5rNNTT4pZUo7+/99QoZ9IaX8UwTNr8Gf0efpY/1bED6X0c5/PzKCLIMMfj1+lw/N930APM+joaEB13UpKSnBsiyEEPi+j+M4fP755+Tl5dGvXz9s295IuKUjvQJCaxCgEfz0zl9CUJIGNvGeXwMNiBZ12ixadJ2psf7psy0K1FoTTySJ2jbSkkhpgQCRVv2WjU8vWWjQwrx+o9s28Z6k4xCxbYQQWNJKu3fjWuqWLwQEGjQorfGVQitFJBJJtXOj9wWPb+gSjdYCpTVSmPEI3xD28UZIKytVpEj/WqTqY+qqNy5JYDoluHujarXoF/NDixq0HMvUg+GzGzp7w53pZQS1NFUM6pv+S/r/TL01IDEDv1GZaXVRgaVDBgshKcVGzW7ZLh3W+2em9YZaC/SGCgffmHoF1Qq/TCHsip+8OIAgGLQQYfFBeZoWdJPWF+lNkuEtAoRp1MblZpDBJmANGzZsWMsvN4UUwWnQSqOVYs3a1dxy2y088vDD/O2ww8jOjhlGK6C6poaBB+xPffV6Djv8MOxILMVE0jU5AKV8PB3MQS8JaBRBNGBaHYQQKOUHl2GYvu+htY/n+yAUWnkoD7Sy8LWP1ip4zqx0N2hGHlorlApmnAalNEprQOEqQVxpHA2egsa4g69BCVhXU0/SVWjbQikH5SbQWuJ6Cq1clA+eVnjaR2sP3/dxART4nqLe97nixgcpzorQsX07lBIooRBKga9JoqhPJvGVmfWeq5BSIIRG4YLv0Qj4SuMlfBKei7Y0DV4SR/torfEch6QQ3P3066xcspRe3buDsEzf+j5g+sD3HJSC5mSSKTPnUN2QoNnxmT9/Pnk5ESxcfODdL6YwZdwkevXqhucKhAClmvD9kCF5eMrB1wLtazRJVtRpXnv/U/KjSYqKSxGOxlMJ6pWHxMb1NEJ7eC74JNGOxAfGTpnB6rUraV9WikARSES07+O6cTxl43s+vkyiPR+NwvEUWgvwNFr41LsuS1bUoD0HO0ujky7at0gKqGqGNZU1zJq/hLmLluBqiwVLV5JrZWNJie97IPxAcEpQoFU4li6u77J8bTULVq5n4Yq1OEqxvraagtwY2nVQwuZfo7+ktKgV0aiN43hIJAgF0kX7Pk1JzfKqWizXM8NiBRNMS7QSKC+Oq11WJzR33XMP5SWFtC4pxPeT5nfl4ftJ0/8qifYdM4+EwPEUlhZmjgC+bxYjKIXnOmgU2vFRWuHiIpSP9j0j3FSwWBICEcoeoQCN1uD7wtAdDXiODQh8Fcf1EggVQ1ralAMoX4OvUb6HpzVCCTzt4wnXvE8JPJ3E8aERC9tPEveS/GvsRNoWFhKJ+DhYSAe09pHW7zIoZfD/EX61hhYKtFAo+J7P8uXLOOnkE+hQ3oGXXnqJWFYMV/kIy6K2tp6B++1L/379GHHnnUSy8wCBFBuborRWJJNJPhs9nqeffIrykjzue/hBsvIKEQhk2kraaH8eSnugbTOxtYeQmsmTpjDyySc49dQT6d9/EL6WJP0mrr7iShobmsjOzqa+vp5EIkFubi7rqyopKyvjoQcfJj+/ACltsyKUoLwkyory6rsf88rLL9GqpDUe2VRWriU/P582bduzelUF2k+yTecShgw+m9Zt2uLKKF9+/RU6GWX56rUUlbUiOxKhurqaglZFbNG+mO223obVDXEuHfoI+29VykUXnwFC4OIQwUJ4EidiMXT4bVRVVPLI/Xdj4xONRJDSxvcBV/Nd5VruuP1Bkk1x3IiPXynovEVHampX0WeHrRl8wWk0C8nNj71OrHold/zjGrBtpBBo5eEDQiiUr/G0ZNXaSk4++zLadNiSiIREcw2P3ncbbYrzQWoefX00C8aP574HriUWLWThksVMnjkTpWK0bdsWhYerIT+3gK3LSygvL2DmKo8TTziV2686kYMOOwpLa+Kez+ffzaR6eR3z5syjQ7sYBx92OO3a5ZCt8mhGcd/Lb1Mxdxr333IjWdEo2BKw0J7C81xWVDTiJ5ro0LmYiLLRlqTRV0yeMJU9e29HNCdCRcLhzLOuZuglZ7L3XjuihM36Bo/Pxozjnfc+QwBF+VEKC3JIuB6z58wl4kU5/9xTGXBAH/LyolhWBLQMOLyH6zkIy0JJm9dGfcRrr/+LrNxsunXrgFRxbrvpWiztUZfwOe/KIZx40ECOOHwAWkqEZSGFj1AK5UpWOx4XXncTbb0mHnvkPiwJQtoIJL4C7TWSFIJRo6eydv4PXHXe6TgI6hodpMgiGrNQQpNIuORkR7ERxJNJhC3JtiW5wgJLogT4wggj5flY0lhRLFfhS/BsTUQrlOujJWRZWWhLoqXACq3hUgEKrUApaT5FM8trPS6+eAgnHbwnJ59wFEkdJScWASHM4tQ35cqIWUjM/GEetlRst003LClRKoqWPk3N8PhrH9DOauKoE47jrqdeZqeObTl40F6IrFxijoVvuURiWRklLYOfxa9e8qQTktIaJKxZs4bm2gaaaupYX1GF9hW2ZYOQVK6rpKG+gcqKCnylEPzUyhNqaFXr1jFi+G0sXbyEFUuX4SccCLSTTUEHaqCUEoFk6ZKl3DXibiZ9PQU36Zl7pGJd3Tp+mP0D48ePZ8yYMcycOZPly5czd+4c1qxZzcqVK4knEkhpIQJLjgajDaHZecdtOf3UE7jg7FMYcvnZDLn8bC4570TOOfVILjr7eKLZBSyvaKSoqARLaFylGP3VZO558Cne/OcX3PPQcwy/+wk+/nwCDz/6JA8/9hi+UqA1VesqaG6oR0iNli62NJ3jCUh6HjU1DjnZxQip8FUcjTKjIH0QmkULF7Jm6VLOPuF4Lj7l71xx9Wmcde5RnHnGcfTfZ08sYeG5PgvnzsZzEwjhG60jeF4LCTKKqwQNzQlyCgt5+dnHuP/Wq3jg9iE8cucwWudl4TbXobRm9pz5rK6owFMKD59Jk7/l0zGTefr5d7j/ked59Z1PGHH/s1xz/V1M+HoiWoFtW7QqKWO7Xr1A+sTx+fLbWTx03zN89unnJJxmPhz7NcedegHzFyzC95rREtbVOjQ2JnGSgdYVUJ/S4CiLD8dMZNht9+I0J5DaaBrffj+fx599nur6erQAx/Vp9hySSRfhCBxh8+pHn/LaqH9xzsmH88wD/+DRu67jnluv4uE7r+P1Fx7mkBOO4b4nn2LcpG/RxhhoKEIqlBBoYdOU8Fmxeh277b4zDz44jJtuuZJjTj6Sk885hcWVa6lsqKfJ84nk5rO8ohIlADy0cAOTqY1vR1i0upr6Zo+csiJ8DcKzEZ4xtAmhcZVFdYPLV6NHc0D/fYyQEDYffz6eY447k6NOOJtTTjufv592CedcfC2nnHs5p59/JaecdTHDht9BPJHE1z6eVqxZV8XcxctY39jE6vW1LF2zjtU1tdQ0NbFqTRUVNU1UNSZoTngBfarQ8JiCQBttWXuAjydiLF1XR4Oy+X7eChzXx7b8gKWYnhMChG2sI82uz2uffMrIF15BN2vQFkqA0MYM/tVXk/A8sCyLvv335qlX32BtRT22K1FoiKSZyzPIYDOwW36xOfieb+hUCBQaX2u+nfYdnuPS2NjIooULaNux3JgDhaSutpaCwgJisZjR6JRK+dBCs58QgqqqKq64/HLq6+txkw6el4OvNUJIlG+0vdBkaJ41ZjspFB999BFTp07lm4lfsWZlBZaUNDU2AiAtSevWrbl1+K001TaTl5dHbW0ttbW1jB07linfTmL77benoKAAAu1PIvC1QgqB0tC1a2e27NYFW4Dnuoitu6IB5Usi21lMX1LJd5O/Jqk8srRNjrQZcsmF2IMldb7HLXc+SO269dw94ipiMUHMttHKR1oC27bYuufW+NoDaeSUUuBZknXr1lOxtop2pa2oqWmgdVEWaPB9jbYUQkpisQjFRYX06NSB7IIIdl4EK2rTpbwVxbEshBDEsmLk5+Wy5ZadTN8JEfjhQn0b1q2v4bp/3ExVbTNt2nVEa0l1TTVbdutMXdVaivJjXDPkStq0bUN+czeiWRGktDjppBM4+LBDSTYlycvPxbMlU35cyC3D7qNjh/ZorXGTLgWFBTQ3NSM9wbrqeh557DlOPuYwjjl8H7JzIixbU8P9D77Oy8+NYvi11xCJxLC8GCUlbYlEYgixgUFKqcFS6CzIbpWP0gqkjyctVqyrpSnhkXQ8QOA6LpFYjOzsbISwUFqzaOlyCgoK2WnnncjNz0UKDVLgo8kvLmXP/n14843XWLpsGWjTU0IamhNCIyybUW++yfMvv0lWbi55hQXUJ+L42icWs7GFomeXTlx21XXUNsRJKoFCIAHbVWgRwbUt6h2PLz+dQKzRZ8ny5cyZv5jtunXHwkhtHxdHRBj7zWSSdVV0bd8OjSAmfQbtuwddytpSVbOO7bbfhqVLV1PXuJ4tum1FbZPLS6PeZPa8ZbhKENEaYVmMGz+eJ596loidRV5eETVV1cSiFlp7eL6PpyQiYtG5XQkvP/UkUuhgAWWZgBSlUSgjVC2J50Ot6/H5B5/i1NXz1YxKFq5dT8/yDvjSzFO0RmuFFj5aS5K+QmTns7pyAQlHkZsrAR+Eix2L0LV7F+oa1mFbDjv06Ez7LboxetxETj/uKJTto/WvZlUZ/H+MX+9D8xWe5+N4LkprZs2dza233oLWmrq6OubMm8fuffagVUkJCkjE47w16nW23WYbBgwciGXHQIR+MBPd5/s+zz//PB999BGnnXk2ixcspKQon+NPOgErGkMHWlqoyYVmShD4ns+wYbcyadJEmpoayc7ORmmXvffty7bbbIcIHOjdOnVlqy2707lzZ3r06EFjYyMvvPACu+66C/fccw/Z2TlYUiKENKxeG2HpYTN5+izeePefTJg8g39+Nplvp89i5uwlTJgym48+/4a16ytprl3FwH33IC87F6ltcmMxsmMCOzvGlJkzqK5cy7GHHkhxrkV2NIeIsKhPJhk7+Qd26NaGHj23QmuJ5Ql8BAkpeOOdf7Fo4QKWLV5MXk4uvbbZDtu20NpHKQuhJCsSHl+Mm85nX37NB2NH8+rIT/nsk29494336dCmDV237EgSxbczF0F9Df367I6M2CbYRivjK/JccvPyadOuHdvvsCO77L4bvbbvRe+dt2OHXj3YY5debLNlJzp16sy0OauoWryYQYP2JGJnI4Uix4aC7Cgx20dGBd/PWsLMGbM444TDyM21WFLRwCeffMaBe25D27KOfPvDfMZ9M5krzzmB1sUaC0VuXiFV6z0mf/MNB+3fn6zsCDNmrUI79fTfazds2w7sCEG4gvD4YVUF48eMp3/fPcnKyiMRzWbF+iTfTpjI3rvtSIfytiS1YPSYifTt3YuO7VuBsGhdXMq4L8eyZNES6hubyc4voLqhmY+/GMes+Ut49plXEV6Sy84/i1aF+Qgp0QikNuq71ppuW23BYUccyiEDBzFon33Zv9/e9Nt9N04+4m+ccNAg9tptN4hk8eEX4/GbkyxfuoBWrYrJLyxFCcnSyvU8PPJ5powZy53XXUFJh7aMGPEgnbtsRXn7Niip0cqhLgEvvvExu/fqzK479sKOZiGlR1Z2Nu3bt6dnz+4UFOXStUsXem69BW3KymjboS2NCZ81q1Zx+ID9icWiIKBLly7s138/Dhk0gKMOPYiDBh5Ir+235rRTTuagAQNp07kba2vq2LJLF/bv1xfwEFIitASl8JWLFgIXi4SSrKtt4MU332ft/AUMvfISmnD59LNxxHSMLlt1xvcVQiuE0Gjto22LKT8u4YsvJpKIJ2nbtpiunTsgtI8mgUuU0d9MJcdvoF/fPYjZWdS7Lt9NnMK+e/bGypZIZWMHwVMZZLA5/GqTYzKZRCkfy7KYPmM6F118EdHsLAZfdQVnXXAeqyvWcskllzBx4kSSiTi+Vni+TzQWM9bDwFGsgyhJrTWfffopL7/0MsefdALHnXgCMmpT39yI63tBtJZBKAQJHNxSWEhpcfbZZ3Leeedx/30P0K5DOdpW5OZlIaSJjLK0DVrgB0EkiUSC5559FieZ5KKLLiQ7O3tD5KUwZhXjFddoIZgyYx7vfzia7KxcIn6Cppr1JBtqqKtcRcP6dWzROp9Be+xEYVYO2oqgoxIlPZQyzvPKdXGsSDFCZiN1FCuIfLMsi8amBtbVrMcTCoVECBtPw78+/ZSXXniW3jv34pohl/PC868zadIMHFchpIcvGsBWrK9ai9tQyTXnn8qz99zCvfdcwXXXnsmDD97MHnvtghKCuKtYX1XDunU1SBEJIg+CrQP42JZxT+2yy85kZefywstv8OJrb/Lam+/wxdhxlJSVscvuuxCLxnDjSZKJJCiNCP2oVgxfRvCtCL6wyS9rB5EshNBYEUluXhalpcWUtG6F5zuQHaGqoYoVq5aDiIBfhOsqSsvboLNyiaPREYg3VVNdVY3neaDYYMJCoD1BIgk++dx4y4Ocef4NDBl6FyOfeo5k0qWsdSkyCIqJ19YTjzfhWD4R5dJ7iy7cd89NrI8rHnjydS679nauuP4OXnlnLCOfe4e2rfJ4/fnH6dSuLVIbv5PGaBsCjYUmOzebtRUVvDTqTW576FHue+JJHhn5DLff+wBLV66iqCAP33Vp1boUx/XxFVTVNDBpxTIee/VtHn7wKarXruGW266mx7adGLT/gVxw4cU8+9q7XDPsLt569wMqKyupbUyyfEUl3bt2JisWRQqJQ5Sx385i8PW38+gLb3Dd8Pv4x52P8ORrHzL8gWe5ftgjTJg0A5SH9hyE1ggF+dnZdO/cgW26dqJTWWu27tqeA/vvyRad29G9azcOGLAPSU+zTc9tQYSLxiAiRIIQEl9LFi5bzSdjv2boLfcya/J0jj5qEDvvtCWXnXYqET/KvSNf5qHHn2L5ihV4rofremghaHRcRo16m6hn0bZdR5587RVmL1yEcgXaj9DUqFm7qpa2bbuilYWVTNC1WyfW1dbQnIwjpAB38y6IDDII8asFmpSSiB1h2rffccVFg6lZVclZJ5/KSccfz2WXXs7FF1/GsuWreOThR3C8JHXNDeQVFdKccNHKmGy00PhoLNtm7Zq1PPTAg+y03Q5cevnl1Fatx0s4RGMxAISvEcJsDQjNjaYeAoTCsmHAwP0459wz2KPPrhQWFNFUF8dLOGipUdKEREutQUh8afH1+G+YPX0GRx52MNttvyNKi8DQb9qohMCXFigXW/jEsmK0b9uKs08cyIibLmTEsCsZMvg0Rgy9kIfuvJZrB5/F+WefSU6+MX9pFNqO4EckNQ3NrF5TTVVNE8tWrMXSxlyrpUQKm5jlkRcpBGXhY7G8Ocmozyfy2qsfcOSgQxlywbkcsM/uHHvqMdx8//18/OUkEs0WloqhpKRAW+TFohSV5GNLKN+iAyVtS7GzYiyvqmLW/PlkC7CFR9tOnVFSoLVnnPtCmqgzLDwEU2cv4O6HR7LD1lty8xVncfn5J9MqJ59rBg9l1bJVaF8hJOTm5+DqKLXxJHGliLtxGptdHD+Gq22WL51PWetcGnyb1VUeSa2ISpv6OrCyIvTs1pnddtiZjz+eSuUKRW1dI7MXLOeVl55h1+2706owH09HaXTi5OdGsCI22gp8OtpEzWkBUUuivSb69d2ZXXr3pGO71mzRoS2lrfIREXAtD0+4xLIt8nON5uwjEFFN27ICtuu9HVv36sbzj4/gtZF38tgDN1FWVsROndqTa9t4CJp9ifYFwvPxpIePRnuCZTU13PHEM+RnZXPHNRfz5O3Xc++dw+jYozu33HYvTXV1qCxBXbya7bbfmkvPPZOdd96Gmd//yPRJ3zCw347cO/xadtquJ9FIlMKI4LBBu3PzTRfQoUMeX40fR0OTR1VTPZZupGuXDigpkb7CEpLa2iSLli+nKV7PNj26opWDG4+zZZcO5MYU23Ruw+mnHo/MiRhTttBYgG1ZWJaFlsZs6AsLlMbSioi0yMvKpyCSY3xlIvCX4ZNA40tJ0lF8M2MmH33+KYfs15fH7riOnXbblWH3PM4P387ksTuu59FHh7Gkej03330Xq9ZW4vo2c1fUMfT2x6lYtYLLz/gb91x/Pp3admDwDXfzyAuvUF9bTTQL8rILqa1vMKH90qd1Xim1zZKvp87CxsLKaunVyyCDn+JXG6Yj0SjK99luu+249NJL6dChA3v02R1f+0hpceqpp7DzzjuTkxslLyeX8tZlWEpQUlRszEZBMIkQgrq6OoYOHYrv+Vxy6aXk5eTiOy5SgYXASyQROZqmZDOPPfYYlZWVtG/fnsrKSjp37szZZ5+d2pwshMB1Xerr6yksKMRx3MC3Eux7UQphR6irreP555+nuTnO0cccHWwGDyRZICwFGukZU4kC8goK8GUW/xrzLZ06dUVGI6xavoKCvCi5BSUsXbyIsla57Lrj9hTmRhHaASVoUBE+/Hg02kuSaKpl9Jfj2brbSUSVwLIkvueTm2VTnJ+H1vDPj7/m1TfeYf26NRxx2ADO+vtRxKLgeZJTjjuGvLwC7nngQV55vRXnnvg39jtgEB3KO0BWMZcMvYfWpa2wRJKqlatpW9YGVzuUtylk+M030WOLjui6mpT2KRBoLZFYaFcjbUl9dS2FOTkcf+QhlJUVkQR8mc+3U2dRH4d2tkX5Fu2oWvI9ntQ8/dyrTJs2kUh+G7RfQDyZIK9VNitXrcaNJ7jzrnupq6llz78dhlaO2UflJGmfk8P1l53PnfeO5Nwb7iApIFG3kgP77c5Zpx5PdkyQENC+Q1v8dS6WFWrOgbIgJZaOkGXZtC8t5piDD6S0VQlNlmTyzKU8fPedNNfUEW1XQkEsn9alHXDtLBaureGVV99DiGyKCguYNmcB9bW1PPXC2xQW5lPT2ExDYzNf/rCEWSMeBBz67rkLB/ffm+yITAsQgYgQRKWipqmRegHacUj4gmRzkratSrCtGNl2hNYFOXRsV4xAIKwYpx08kHMHDSAmNZ5wsX0HoUzUr42gY5sSLj3/HHzHIRrJZtmcpQhhI4iAMMEiSjvYdiNd2xVy9TmnYasEngYrEkFaNsmD+xKxbWzhgXYxJZt5QrA7RWgFSCQS5flI26amOk4iHife3JhaOIZ70LJUEq09sqNR/n7wfpw8qD8RIUHa1Mc9Vqypo6JdHXZWjM7l7bj7mqvxki52LMqaukaGP/gU0WiEm665nO16dMbTLsOuv4LpMxcz6esvaU4kKC6GmGzCEhGQPlJEidgasFDKmD5V2sIzgww2h1/tQyNwkNuRCL16bUvr1q1ZvWY1lZUVNDU20djQjGVbJBJxGusbsJWg9/Y7sPfefY1fLRAgUggWLlzI00+PJBKJsGr1St599x3Gf/k1zfUNJJrq+OH772nVqpRYTjY33nQjc+bMYfLkyaxYsYLCwkL23ntvotFoSqA5jsOrr46iobaGI444lK5bbmWYkNb4vsYHpk2byivPPss2W3fnzHPOwbKjqQwnGxIFC9A+UmpcT1NRWc2SBXP4ZsLXfD3pe/750VimT5/BV+PG8s3Eicya/SPfTvyaXXfeidKSVigNHoLp81Yx6o23OeLgA9h9l+1474OP6Lp1Tzq0K0NoaEo4fDJ6DL06dmLLnl1JOC5tiwu5+IxTGNR/T6IRhcLHkhFyIhF6brUl2/TsQWOyge26d6dd6zaUFBewX79dOPTA3TnkgF048vBDOHj/fTh8UH/+fuJRHLjvXmRJyYSJk4n6Dn377GIsjoHhU/seAhNpVlrWmsVz5/DJx19QWd/I2Enf8uHHn9Cze2cG7bMXMgbjps2gqXI1+/Xfk5ycXHr12pru3TpTVFTArB9nsO0W7Tj2sP046IB+DNy/H/vt24+CNqVM/uobBu27JyWtisDXFBVGOHC/3uzYqzM7btOV3XfsyYnHHklRQQ5SaFxpMXH6LNy6avbYrTfRiIlANYIYkkozY+EyVi9ZzGH79yE7aqFsyar1DUyZ8DWHHbgvefkFNHnwyceT2LpbJ0rLS1mwdCVrVleTk5VDUUEOUStCXUMcy86iYs1q4o21lJZ3JOEkmDNrOvW1VfTZfRdysrMDvyNIocjOitGuTRlfjJnEx59+w0cffsHkb3+kbl0955x6Cp06tsfRPp999BGdSoro1XNbnnv9Pd588z3e/eAzZi1ZyxffzOT9z8axvLKembNX8c20eXzx9VTmL1vDD/OW8tkX46lucpk1YxYH7bMbrVq3RmhNk4Bp89cw+dsFrF1TT2PCo7KxiUUr65g2axH1CY+Va6uZs3A5uQWtyMuKBpGJKlizGakmZCS1QPAQLFyzjs8++YIB++xK186djIYmjL3RdyVNMsoPyyuYMW0hc35cSpOw+GbKTCZ8O5vp02Yh8Ignm6ltbqLZ8ViyaiXra2tpV1bCluUdOHbQAXTtUISUCisiiNiSLdqVs/vuu5KdW4DyIZ5oZKuOZXTs3AWNhYxlMf6rqZTkRdh1x14ozGIwI9My+Dn8pn1o5j8apRVffjmO8847B9uSJBI+uTn5RGM2iUQT8eY4+bFctJ/gxBOOZ8iN/0BEs0y0GPD9999zyt//jggCPuyoTbJZkR/LBtVE0nUYPPhqTjj9ZMaMGRNkSJDU1dXRoUMHdtstCBYI0NTUxIUXDmbB7FkMGXIphx9zPD42llYoz0fZFsOH38I/X3+Ds848kwsuG4wI9uOIIAMDgQaZ8Dws7WMF0W1S+yQcF8fO5bPRE/n4g/e44ZqLKe/ULrDtO9gygpYREghmzF3KSy+/Rbblc+1l55GdlcVdD41k9vzlDL38LHr12Ip19Y1cMvRmzhx4KPsfuRcWLrZvI/0IWguELXCkh6c8YjqCpSyzCVwqJAIhBa6ChOcwf/EikDYiqwDhaXw3gRWzsaSN29iIFIJtunQiO8dG2xpBBO37aJ1EaAtPSlxp4cWTTJ+9jLsffpaysmLOPPVw9th2C6ykg2PHuP6h58ipqebGf1yKJXLR2ph2G3SEYbfcQZ/te3D8UYea/W2WDVoyZekKnrz/Ce687nKKygrR0kapJLZt4ToeUWLGHKw1liXRyqUZixvufILcRC3Drr+KrCwL27ICX6imwfe564W3qV66jLtuuIhsW1InIvxz3HRefOQhnrn/Ztq1a8f8ykYuOvsG7rz2AnrvtQ1aAjIKwsdJKtZWrMdxNc2NTWRFBR3atyE3Lx+hQOAZIWBF8AGpFZbQeMpDuaCiUXxpUbl8HdU1a2ndti2tSoqJWj6JJh8rK5uZP3xPvg3b9tyOtz8eS2XlahYtW44vI7Rr35FZ8xawZMkytirrQOvSEuyoRdt2ZdTWViN8j+yyDkwaP5F7rjuXzlt1QfgKxxa8+9EkRr3yIcpJ4Nku6+K1+A0uHcrLyc62saQG3+fi885hjx22TG2VMb5iE0krMBuitVTElWbURxN467U3efKeobQvK0XKQCkEXAcqXYdhdz/IumWV1KytIlIYIydisb6ygeKSMvzEepKJOqSdhbJykcIlO6oZMWwoPbp0otkXjHj8darX11DUpjWJRJJkTQNZkRiF2T4r1qyjuE055xy9P1t264wnBKvrHc465wouOOVvHH3YfrjCIitqBHEGGWwOv1mghZui165dy7hxY6mrq6V9eUd8D6rWV5GXl4XWmoXzF/PPd17n2GOO5PIh1yEiOWZLD5rmeDNz586lpKQEIQV1jfWsWbGO22++lYI8i5tuHkaXLt0pKCnCtu3UO0NYlgknDr9LJpMMHnwl076dxJWXXcCJZ5yFpy1sbSIp457HheedzcoFCxl+623sse++G2UdsCyzx0VpRVIFe7R8BcrHsi1cDa4WvPTKP/n+u8mMuOUasvOzcZQmYklsLJQWTJu7lBtvv4uiqOChu26lrCgXpTUNDrw86n3mfT+Vu267mXoXLh56KxccdRJb994Cv6mBqupaCoqKcX1FTU0dbdqU4boO8XgTbVq3xhKS+up6SktyycmJQSTK6vWN/OP2h1m0dA2FBdnk2BbV1RX4UlPSqoy1y1ZRW7GKS845lQsvPA1fekSkDb7GFx6ea/ZnNbkeftIhaVs8+sTryKRiyOWnkIjXsnxZJV27deKFf41nzXffctcd1xC18pDCISksVicVV197C4fstQcnHXUwyoaodhBEmLx4JcOG3MyDw66n7ZblvPb2P/l24g/klLYju7iYZXMWUpYfpaAgj/lzZlPevoxeu+7GrGWVtFb1XHflRdgWWJbZ3Kw0JDzFw29/xrsvvk6vrdpSVlxGpKyUxSuqWD1/Jo+PuI6OHctZ0QQ33ng/l5/+N3bZcUu0FtQkNc+/9RbjJ85j9coKOpa3o7p6PQDRmE23NsUcfdhAdttxG/Lzs5GRGL4x2qF8D0dC1LVo0j4jRr7MnNlLyS2QZGflUldTixVNUhzJob4miRBw6QWnsePWW6FchR0BXyaRFmjPZnl1kuuG38Ep++3OwYccbBZXVrBwQbO4wWXY0Du4+MSB7LbXXibzB3GUJ9C+RGtFs5C8M3YSn74+iluGXkX7DmVEbQm+xpZRtBVot0GQh7FoBJYSDa72afAVj4x8k0Vz5vLgiCEU5uQCZoGB0HheAoC4b+aA5znkRKL4UuA74CU9snNsfNelobaJwlZFJJqTNMcbaN2mCCIax9eMH/8DzbVNFLUuprKmGuXEaV1aihOP8/2iSkZ/+S2X/X0AfztgX0ROlOkLVjH89nu5/uJT2Xn7rXBEhNys7IxAy+Bn8asFWiqFrtZB1GCwWRoQwgomSrAp1PNZu7aCo/92MCefeDwXX3o5VjQXpZSJQFO+8YEF7itP+9Sub+Cs088kP8/msccfIz+/lcnKEERW6uAMsTDaMYQQgubmZk4//SzmzZ7NnXfczMBDDkOJCJZW+EqzbNVKzj37NLKR3Hvvg2y5bc/URE/X0LRWuL7HtNmLue/Bxylr24GEZ1HfWE9xcTbVNQ6rly6jU/ti8gryiOblsnrFCtoWFbL9tlsz4OBBTJjyLTt370aPrp2QEhPpZWfRlHBIxuMUFxZSUd/MkNse5KDd9qE2WcdHb39Ms5cg7jaRU5BNdVUVrXKLsGWMJq8JrTzaduyIG3fwmtZx8vFHcvJxRyEE1DclqGtIkJWTTW40QtX6CohYFBUUs3rlOp55+X06lORx6SVnIGyNhcD3NL4QOI7i/seeZ/qsWSQbm4jkRaipaUYkLDp1KmNt7TpWVzRx0MB+ZJW2g4oVXH35aWRHcrClh/Y1a33BP265i0G9e3PUYQfiRxS2Bl9ZzK9q4JrBN3DbkMvosk1nXnr1fX6cNpeKmnUUl2Wj3Toa6mCH3ntTW70eIZPsPWAAk75fhlW1gKFDBhOL2saXpkEr8B3Fx1Pn8tYrb5CfJVm9Yi0yL4dofit03Vpuu+5iOnXtSJUX4ezB13PuyQcxsN8eKLJ49q1xvPLWO/z9mAM5sN8utC0ppLmxHhdJdUOSF94aw9hP/sVVF53CcUcMMho4EqN2ahJCEUlI6rTiylvug7jP0UcdSExZ1FfVYmdpYoVZzFq4lk8/G8c5px7BUQf2QXgCHc1CSw/pO0gVY00CLhwyggE7lnLBuecYjSkMxfA91nk+d414gN17dOCoY49DSpuGRD2xSA5Sg/ZclB3jiVc+58uP3uPJx+6kuFW+2UPm+VjSxtGweOkKfNcjHm+mOR6npKQVdTU1JBqbKCgppjaRYOTTb5GXlcNZpx5BloDtt92a/PxcNJqESmJrjdYR5q6r5J77HmTY4Eto37EE6UlQEmF7+J7CElEc2yWKRHgCX4OOWMSBH+csg7jxp8b9JNryKMzLI97YxOyV1bz17hjOPrwPJ/1tIK5tM3bi9zzz9PM8/cCt5OVYKDuLqB3NCLQMfha/WqBt7qZNEZhSihkzZnDyySdz2mmnctlllxOJRo3wCG0gATTgex5VVVVcfPHFtGlTxi233EpRUVFK4ISO6pYI97M1NTVx+eWXM2vWLP7xj6EMGnRQSvi5rsvUqVO59LJLKW1dyrPPPEubtm1SApI0H5oJ7XdZV1fHa29/QDyp2GLLHlRXraepuY52bdth2xZLly6lsLCI8vJSvp/5A16ikd7bb8thhwwkYpvsJYYZGmjMZnLH8/EkVNclOf+8qznh6L9x6KC9qFlfy9q1a8nKyiY7J5v1VevIys0FS9LQ0EBeXh6RSITGxgZyY1HK25bSunVJmtk1LQIs2NDq+4qEgtMuupp+O2zLJeefhmUL42jXEkf5aA1Lly0nkUhQX19PMpmkvLw98XgcrTV5eXnU1NZTUt6eR556nea6dTx61w1kRwAsXE9SpX0uHXwN/bffiXPPPhFXOkQ8RVMkxsJl1dx2093cP/xqysvyIRIzvhsrTFJtfIUo22gMMk6TijD01tfxq37kvruGEYtFjbYQSDSNlQriCRutCZM1a/CS+MCKmgRXXHYTV5x9LHvt1Yt6O5+zL76FIltz181XUBBYEiwpTK5DabOmzuGqy65m9x224uorLwFpoZXR0BypIRHHFjHWIBnyj/voWlTMtVefiS38IKm2xNeKyoTgwsE3csyAnTn16IH4IkokEkUoo1kpoVjb4DH0pgc56oDtOPigAcYkmHZqRaOn+G7mD7zz8hvc+o/rWF6zjuG3301FRS1FRYXEIlEq1lURiWVRX5ekpHVrCovyKSjIZt26tUghKG7TkYa6BuKNTVRUVBDJihKN2CQb6mhsbMTTPnmFBcQTCbTIo2P7blSvnMtDdw5jl516onyFsi0iMoEnLCYtrOLGG+/l7mvPpdc2nSGVbNxscZAIk8DaEmjlB2bNCA1acMI5N1GUI+nQJp/11euI5eTiJ+LUrFtHSWk5TY3NHHJAP44+YiBNwmbkyFdoXLOam66/Ci09iEgilqGfDDLYHH61QPst8DyPuXPnct1117Hvvvty4YUXEovFNiuckskkQgg8z8OyLOwgOzyBBrapZwgEmtYax3FYt24dkUiEoqIiIpEIBILKcRwcx6GhoYGsrCwKCwsNI7MsoyWmHW+ilY/vJVFohBVBCwHK7B0TIswcb04TEEKgZZBRVpu9WVLoIInwT08V0Frj+S6eFKyvaeai86/ignPPYJ9+vYlYtmHS2mgCYCK6lNIBuzYZPrTS2NaGE69FmnaZ/h6CMXAQXDv8LrYpb8t5Z56CtDG7qYIM+mE5vudjWRKltNmQLoTJ7CIkvq9IasXjz7xKormJqy8+k+yoRIsIytOs91xuuOEmDtx1d44+6mB8y8P2odGKMm9hBTdedzN333o12/bogk7zW4oga4nCQyjbRKSKOHEi3DridezkKq4bMpjs7CyzVQMd2Ak2EZgb7Bv0lEZoF8/3WFWT4IKLrua6i8+g7+7bkbTz+GLijzx8/z10bN+Oww47lFatiilv3w7XSTLz+9l89ul46tev5upLz2fX3tthRaLG7ysULmB5DtqDOivGRUPuwmlMcshBfUkm6snPyyEnJ5+a1aupS0b45IuvOOPYARx/2H54SGK2MfVpqYnjsbCqkeuG3s6pB+zOkYcfRiQS2bCw8jUJT1GTjHPzjbdy8jFH03O7bZg1Zy7ffjudoqJCunXtxrTp08nJyaFDx66sWVOJZQvatGlNMhnHcZO0LWvNNt27k5uTQ1NTE3UNDZSWlOA2x1m5ejXFJa3IzsmhomodOfmFZOfk4jTWUt66kGgsGmQ5sbBFEk9G+WFFA+eeexWH7NObntttTU5eLgUFBSxdugyBZquttmLRnFl0al/OHrvtjCVAC0ldEs4afAM7b7clZ556LPk5OSRcl+bmZlq3bkVzc5K1a9bQrXM7JAlW1VoMueZGLjn9ZPbeY2eQPkpqopFMLscMfh7/FoGmlMJxHLTWKR9Y+Bn6q9LheSb/YrjfLBQGIdNuKRxC6LSz10TaGW2WZW20dy285ycCLE2wmb99POUGTN5Fa4VtWWiVUgGQto3neSbJLyClhef5IARSmrLCeresq++5aKlIurBubTWlJcVEo2ZlH9Y/zCvpe8Ysa9pvhJuUMhBEpm829R7SNq67GmYtWkppTg4dy9ugraDtCtBmfx+YBNFCCKRlo5UOBJtZbcugL8eMn8SiRYs498yTTcCMiIBSJAWsWrWGkpw88nOjEBEIX9IsoWp9Ex+9/ymHHbwv7du0Qgsj0MJ6G4HmI7SFUKBx8JXFmHEzsUWcfv32wLaDI1N+VqApFOAqgVAOAp+qJo+HHhvJMYccwI7dt0QRo9mSTJk+g8/HfMmCBUtZX11NVlYWWvlEIlG6lLfl9L8fR8+ttiAWsZCWyUyhhY+vwfIdE6VKjJEvvM/qtZVY0sVJGLOwHYlStWIZRHLJys7lbwf1Z8C+e+IjsS2B0BItNQkc1scVN9x4BwfssBUnnnD8RnToOR6u6+NnRRj17nvMmj6DW667DkuCFTEBHUbvB4TA94UxywZQykNaAqnNMU++7xOJ2Pi+SaUvlFk8iYhl9k/qIEO+0CbDBxofiZZRLO0iVRIls6hoVNw8/AGSjVXUNzaSnZWNFaRqq6+vo315OxoaGtl6qy4Mu/4a8nKzAahxJUPvfYYfp08hKyooLMgnkXRoqKrH9gT5+QXU1axju+27c+ut1/LFhGl88vEn3HnTtRRkRbCCJtt2NNXGDDLYFP5tAq1lsZsSZCHC89VCoROipfbREqEA+zm0/D1dmIV/p1bGaNxASZLa+AODjH7BmUzhs8aPZ4IFXKRlG+EQZDARcsNZWCG0Dhmvg9ICSRStFJblobQJBmjZ3pZlkGJj5pfNCXsdCHofUNIi4pszyXwreFopzJ40c2+qT8yuqZ+UhfbRIopGYAmTK1ELG4GHCrQ9CxEIHEBZOJaPwEZqiRQKoVyQRnMO621ElEZiMloopc1pAtIKQscxEXfC1G7zAs1HIfC0YeJCu3gyiqtBeC7ZIjiZwZb4lgBX4cSTJJIJPM8nFouilCKnqABbmo3IlmVapDHpm5SSgIPAw1UxlG9hWwIpzTE+ljSBFr52cZRnNC5jbDaWUWEhsY1pEgfPt6hvSJKTbRGLGXN8ahyUwnM9iESoizfzxZjRHNBnL1oV5KXSgIWau9FOZZAYLAzPDyFTiVZS46oxkbSpMQ/mHcrktsREkyItkBKtkiYBNDY+No6vsSOSeEMjlrTIzo5RU1OH4zi0KilhfV0DltC0aVUIAW35WlBdn6CpsZFkPE5Bfi5Kaerqm8jOzQXt09zUQFZulJzcGPfc/yTHHn0Mu+7QExtDB1r8PA/JIAP4Nwm0zSGdebb8flO/b+redPzaqrcUYi2xYXKbpMsy2HekA2WGIGlUiE2Vok2eW9MG+dP9MlqbkGkp3YAR2YbVCd/kzNtEWzf1npZ3ba6PlFKGWQlhEvQL8C0AHQjrsE/Md6bkTZcltI8WxrwqtGeYorRN3ZXRGLFMkI8MVv++dMzRKyqCtPwg3GGDMAoFmmmjZwIdtGX+lsoEGwjDuH+NQNOAJyykVkg8lLDQypiINdJkjEGjMUeqaMLTwo0GDAI7ddCmRAZx60JrtAKthDmpQLpms7NvMtaY6CIJqXMrNWjHPCsjKCGQWuELkNpGao3SSRNsoiMgN1gXwgWNjw8apCfwpcCTGlv5SC0QljFdbhizkEqCT23aQtDHCh1k/A+y5miB3uwe5Q3lhaNjkhJbZkGnfENHwjJptTSmxcGrhTTn2aF8rHAvm7CMnxQ3dXKCwCwadehn1hq0xteKhOtQXVlPm9YlRKKRwH9qGTredKUzyCCF/6hA2xzSq7A5Br0ptKz6Lz3b8v7wuw2akdmEanifmXwIc6qvybAQMorw7pC5AIHuFArllnXRYaaG4LBEgmMzzFGmRgAG/CH4Pq3ojRCYmgK0fE86jHahEebwM5QljGZmKhLeBMIwmU10D4ARRkHyZqPdaSPghEYow8lN/l6J1KYgJTzzHm2DND1lTrLcGOaVntEwlBWYvjyETjOtiQ13bjJbmzaHcfom/wUSo7EZCFTwvdDaCNnUc4H+HQhOZCCgUqdtBow3NWQaLTxjItWghTKCM2DSpu3BAkArhLTR0iyOEH4w5sEhrQK0jpjWtKAZH2MytnwTAONJcxCq0MYsHDxi6re54dcmZlJj0oWFAk1rYbowfJ6ANrRZ/JjvNEL75rw8JAoTtCOUa8ZeRsxd4cIojWYFGzrMJHfesDAwbzPv0IakzAIgUCM9z0cJsISPCBIkS2lD0McZgZbBL+G/QqBlkEEG/39Da43vB9uBAsEqpcyYGTP4TdjEcjeDDDLI4P8GYXBMqLFm1tsZ/BZkNLQMMsjg/xzpmllLbO77DDJoiYxAyyCDDDLI4C+BjMkxgwwyyCCDvwQyAi2DDDLIIIO/BDICLYMMMsggg78EMgItgwwyyCCDvwQyAi2DDDLIIIO/BDICLYMMMsggg78EMgItgwwyyCCDvwQyAi2DDDLIIIO/BDICLYMMMsggg78EMgItgwwyyCCDvwQyAi2DDDLIIIO/BDK5HP9D+LluziRfzSCDDDL448gItH8zwkMQtTaHbW4K6QLttwi39LJ/K37LezLIIIMM/heQEWj/ZqQLHd/38X0fgsMLwyMzhBCpM6A2nJ79y0gvO5lMIoRg/fr11NbW0qVLFxYtWkRRq2JKS0tZsGABhQWFlJaVEbFt7MzBiRlkkMFfDL+ee2bwhxAKNMuysCwLpRTLli3j0UcfZfny5fi+/7s0rRBaa5RSrFixgmOPPZYvv/ySO++8k2uuupqJEyZy5eVXcOstt2JJgVZGqGaQQQYZ/JWQEWj/QSilSCaTTJ48mQceeIDrr7+eG264gZqaGgi0tt8LKSVaa7Kysqivr6e4uJh999mHmvXVFBUUcPDAQXRq3x6pBdrftOAMBWpoHk2/Wn6fQQYZZPDfht/PQTP4VQh9VaFpsbm5meXLl3PSSSdx/vnn4zhOSmv7rUgvGyASifDmm29yyCGHsMMOO/DJJ5+w/wH706tXL957/30OO/xwHMf5RYEUapOh1tfy+qXnM8gggwz+L5ARaP9BRCIRWrVqxfHHH095eTmkCbo/I0ijsbGRadOmcfHFF7Nq1Soam5o47YwzmD1vLu3al1PesT12LIq0f1l4hr65sF6hIPsz6plBBhlk8O9ARqD9BxEKBK1DrUqABoEm+A8aTfjnprA5E6AQgrq6OoqLi+nRowcTJkygX79+FBUVsXTZUioqK1Ba4yuFtCSaNJNi8LqNvtOglNHQfN9HKYXneRu9+6+MDf2c1jvaCPX0Mfh3Ib2flVKp//+73pverv9UG/9TaNmmcHHW8vpPo+X7N3X9lZDepvS2tWyz1gFPSu+HX9kVmSjH/wOEPT5m9FgGDRzI1Cnf0GvH7RHSDoScQGD+u+GZjQkgRKhJeZ6H4zgkk0lyc3NpaGjAtm1ycnJobm6msbGRtm3bQmimtCQSEFqAECgBAh+hACSe59PQ1IDnJxFaIoQkPz9/I/PoX1Vb23hK6JQgCxEuRqT8ZU339yB8VyjIQoQ+1j+z38N3pbcvjL7VWiOl/EO+3f8GhP0ohNioT1taRv7Mfv01SO/7sL/T/59ev/903f4dCNub3j7SxkcphRTS8L2QAQbCTMhfZ8X636bU/2VoI1vMIP38aiwc8PSw//D+9G0AsVgsJXSKiorIzc0FIDc3l7KyMsOY0iaRVnqDdA2gAV9pVq5aw37992PPPnuxb//+7L333syYMWOje//KCJlLuu9w3rx5NDY2/kf8iOGEX716NU1NTRCMdVivP/P9YXvCdupgG8if+Y7/S4SMMN0vnC5AfN//Vczyz0bYv2Gfh3PZdV0APM/7yaLmfx1h/xO0O523hYFtAFpp/MAi5P+GqOyMhvZ/BKVg3JfjGTjgQKZM/ppeO2yHtKPBqmRjDS0k9nDwZ82aRVNTE0IILMtCBxqa1prm5mYsy9poZReLxcjOzgagpKSEnNwcEALt+WilaV1airAkoJBCoLRk+fIV9Nl9N/bZey9uH3EnScehvLyc3NxcbNtOlf1Xheu6aK0RAuLxZubNm8eTTz7JXXfdRX5+PkJIbDvS8rHfjfRpGE50IQSLFi3ijjvu4LbbbqOkpAQCX2z66v2PIKQtz/OQUuJ5Hs899xzt27dn4MCBRKPR3xWw9N8ErTWu65JMJhk1ahSHHHIIJSUliGDfp9Y6RdP/SaQzcyFESpB9+eWX9O7dm+Li4lQd/1e15JSAChYPrutSU1NDaWnpRr+tW7eOjz/+mKbmJpTSFOblc8wxx5Cbl4cWZsEufwW9ZwTa/xG0gq+++poDDziA776dQM/teyEsG4HcpEALiUEIwTHHHMPYsWNTK7qcnBwKCgqQUqYmR/qwhhM2ZILN8Th1dXVYQOuS1oweM4byjh2QUiOExPFhzZq17LXbrlxy3rlcc8NQkKYyWuuNBOZfFRu0Yc38+fMYNmwYjzzyCK1btyaRSBCLxYhEYi0f+91IH6+WDO6zzz7j/fff57777iMnJye1kPkzxkCn+ZR83+f1119nxYoVXHrppdi2/ZcQaOkC+6uvvuLll1/m7rvvpqCgAALrhgwSG/wnEc7rkNa01rz44otUV1dz2WWXobUmEon8Ty8gQ7pO1/zvuusudtxxRw4++OCUoP7xxx+57bbbiDtJvp8xEz/pMH78V3Tdohue0NhCYv0Kof7Ld/wOhAMVXn8m/p1l/6dgqq3x/dBHYQSYVptvjw78GZ7n8cADD7D11lvjeR6+79O9e3e+/PJLJk6cyHfffceUKVOYOnVq6po+fTrffvstkyZN4ptvvuHTTz7hlmHD6NypM82NjTQ3NyOFIBCjaAG+NrbrxobGVB1CAfp7sLlx29z3/5fQG/kvBE888QQHH3wwrVq1QmtNLBb7t/nPACzLwnEcbNtGSkn//v3Jzs7mnXfe2eSC5c+A1pp58+bx5ptvctFFFxGNRv8t7/m/QCisfN9nzz33ZIsttuDxxx//r9B6RODXk1Iyfvx4Zs6cySWXXJKiv/+l/t/cPA7nk+u6SCm54IILeOONN5g0aVKq/dtssw0vv/wyo954g/POPw/tKyxhoYJF5a+V5X9oRHVQWaUUvmdWQZ7vobTCcRzzt+uiPD/43axEfN/87boublrkHGnlKa3wlUL5Ct/10Erj+R5+EG0XXpvrxP82pNrl+yit8LTClwppCUCi/A02fXP91HktpSQSidC5c2ceeOAB2rVrB8CMGTN4/LFHyM7OoiA/n8LCIoqKiyksKqawqIiioiKKi4tT1zbbbMPFF13MSy+/TEnr1jQ0NARRRCa6SAqBBLRWtGnbFilN3UIt7+egAaU1XjCGnu/h+x5KmXFXaVGTvu/jK4WvfFw3gVYuWvkm2hKF1ht8OkppfH/D335of1ca/gQ3g25xqWDlPH78OObPncuRRxyJlDZaCyxp+iE0Daa3Kf3aQJMaX7n4noPnOCjPQwftNu0wJmPXcXCSCRLJBJFoxExkIBbL4rQzzuDRxx6jcu1atK9AgML0cUs/6M8h1UbTSHRweb7HnXfdyTFHH0l+XjYRy8K2bKOdtQy83eiP/wx0mtk97O9wQRdem/re81x8ZbSzSCQCUnDa6afzzYQJLFqwEDSpcTCf5v+e7+Gllf3v4C9aG0pHQHV1NbffdjsXnn8B2VnZRKNRotHof1Q704HrIvTdbehPF993A5reILjC3zf0tUfScfA9D+UrXNfFVxtcJZZlEYvFaNWqFVdedRW3jxhBc3MTlhREbJtIJEIsEiMnO5uc3FyysmNYtpUeG/eL+EMCDQwL1L5h1L5SJFwXVykEwkw8HdiKtRk4z/fxXQ83maSyohLP9zaaGyHh+r4hsLDjnGQS31c4rsOKFStMZ6UFSfwvwHfNJPF8Dw+FqxwiWRG0kgGhiECI/7RNUkosy0qtKnfbbTdGjBhBNBrFdV2eePIJxo4ZbTStkAHJDTkiQ4FoGJTR9rr36MHhRxzB+urqlDZixKuJLvKVIjsvGyFlSlv4JVOX1iaoxPMN8Svls3bNaqqq1kHg6NZas2bNGhKJBNXVNUyaNBHfc1G+ZwSZKSnFNb0ggtP3fDzHxQvG3kysjV7/p0FrE7Xz9MiR7L7rLhTkFyCERSQaRUgLtBFovu/jOA6LFy/mlltuYfz48TiOk5rEIRw3idY+TQ31OEnTllBIe56HEILmeDOO6yAlaHy0UljSQmnNVltvTUFRIePGjE0tNnx+GtTzW6AB5fsIAXPmzmXa9KkcfvghWJZASIFlB1G3/0UIBZfWOtXPnudBQCchX3BdD9/XeJ6L1h6gEEIiLJs2bduw++678+D99yNS5mUv4C8baIuNtrH8/n7+OWgAIfno449p164t3bfqnprn4efPzbc/A+ltDLVC13XxPbPYUso39Kj9jcgtFH7JZBKlzWIYrfE9H9/zSDrJgA8YHh6JRJBSEo1G6dVrO4pKSnjllZcR2kcKkFhYQqJ8jW1HsKNRhABb/nqB/ocFWgilFIl4nJdefonTTjuV0087jauuuoo5c+aYG8QGO2pdXR3PP/88y5Yt/clKLyScVPUDh6BlWdiWhe/5fP7557z11ls/YRr/7ZBSIoDKikqmT53KB++/TzKRZMzYMUyZMoX6ujqENkSxuQkUCieAI488ksGDByOEIB5PcMEFFzJt6jQIVvZiM2UgzM4327LYc889U9FE6TRjBcLQ+E82U86moI3GFJEW2vNZu2oNX44ZQ15uHgQBDU1NTdxwww0sX76cgoJ8EokkH3/8MX5oTksrTinzXWNjI9OnTeeHmd9jWUa4wr+X365Zs4bx48cxcOAAPN8InXSEDMBxHM4991xeeOEFzjvvPGpra39yrxSCurp6xo0bh1JmNauUT8Xa1dx//70opZDS4vMvxtBQ34hEYlkSpTW2bZGdlcVee+3FW2+/RTIeN3TwR5sfLjKV4tlnn2HH7bcnPy9/41JNjBJCmwtt/tZ/6MW/H6E/T2tNRUUFlZWV2LadYsgrVqzA932SiSQff/QR8Xh8o0WvMBKEffbdlw8/+herV6/GljYWEnxFRFhIrcHXaH/z8/DPQFjn+oZ6nn/heY495ljk/6G/MuTPQggaGhp45913+fTTT43A9/zNUptSCt/zEGk8Q2uNJS1qa2tS7Uzn15FohKOPPpqRI0fS0LjBrUGwrA7dML8Vf0ygaW0aKQyhZWVlcdihhzL1u6l8P2MG1157LT169EBrja81Siuamhq56aab6Lnttuyy664bOZzTG66UYtH8hYwaNYpXXn+NufPnkUgkyIrFOOOMM0gmkzz44IOpZ8IrLOe/Eca8IFi4cAE//vAjB/TfnzfefIviklZMnjyZeFMzOljRbI54Qkapg+CMa6+9lr/97W8gLCorqzj/gvNZsWKFGZvAHJXeN+ZhU7oQgv79+7Pvvvv+JILIso25SamNNzWmlxNOgI0upUEpdMBEnhn5NN236k4kEkEHK7+8vDwef/xxunTpgtaaPn324Ntvv2X16tWowARGoNn7vrlef30Uhx1+OB99+C+0MubI0Fyj2fRm2U2h5T2p+1rcL6Xg888/IxqNUl5ejm3ZGw1JaBLWWvPuu+/St29fJkyYwAknnMD999+fipIML6U1Tz31JD169CAWiyECgdy6pJiBAw6EwLTYuXNXXnt91AYtNNQSfM0OO+7I9O9nsnjRYrTnm1BZU4m0em2ibZuBBpCCmvo6PvnkY7bv2RPLjqC1sRgQ9GtoCVG+0Z5Vmjn8Pw0dMNzly5fz2WefUVJSktKopJQ89NBD1NbWkpObQ/fu3Xn99ddTWodSCrSJ5O22xRYIy2Ls2LGIoFwVbM14euTTTJ82DZ3GgFsuUH4vNhobIdBK88MPP7Bo4SJ22WUXRFqQzuY+f2lcfy/CfnIch1dffZXrrruO888/n08//TR4p0ZgzP9hPaZMmUJdXR1SSpRvLHMPP/wwc+bMwbJt5s6dx+TJk1PvCJ9TvmL33Xdn9arVTPzmG6PhpV1mP9pv7/M/JtCC94k0B7njuDQ1NHDQoIMoKy0zIca2FfjWNHfccSc77LADe+65JzIMOw8EWGiOqqmp4Y477uCUv/+dl19+mbvuupO/HfE35s6di/IMozzuuOP4/vvvGTVq1E8G/L8VMjDX9eu3N2edfgZHHHY4Bw0ayIl/P5mLB19CeXk5VqgVbWYsRaChheaIWCzGPffcw8677IoWklmzZjP4koupr6vBc5MbmWjSy5BBZFd2dja5eXkBg01Pw2U+Xddtwcg3MLnwM/RZKGWEjI9GC6iuqWHK1Cn02GYbRKChx+Nxrr/+el544QVs28aybGzbpn379rzzzjtpjMMwLssy9TzjjNPZcYcdcRJJs4ITEimtlJ9OtfCthH6AlvVOp5Xwnpb3AniezzfffENhYRF5eXmboCtjckwmk+Tk5HDZZZdRVlbGddddR8+ePVm5cmWqT1zXY+XKlcybN4/2HTqglMKSEieZZOqUbykqzAc0lm2xRffuTJ70LSuXLTdjIM1Y2ELSY+seNDY38dX48QhtTMu+72008XULP8gG89nGCBc0vtasXVdBXW0t3bfaCqXAV+AFfrWKqkreeecdbrlpGPHGRtD6z3BZ/i6EbXNdl5deeonddtttI5NcPB5n6NChtG7dGt9XdOnahcp165g4caKZL8LQjUbTqqSEblt04/0PjJVEB4utD//1L4Zcey0VlZVYtkki8Etm9t+KcFwEZsPwF198QSwWJS8/P/W74zj4gTl76dKlKXpK1zb/HdBaU1tby/jx43n77be54447GDlyJEknCcEe1XAuT5o0iblz51JaWmp8XcIoN/369aOsrAyAnXfaidGjR7No0aIUnyBod1FRMT16bM1HH32Mm8oxqykqKkZpjUrbd/lrjUR/TKClXmJeKoRg8uRJVFdXs1///YwvJ6iQFYkwbfp0xo0bx0EHH5xiyogNGx5936e5uZnLL7+cV195lUcffZR3332XBx56iPXV1bz+2muGGfmKnJwcLrzwQh544AEqKipS79nU5P2vgMlyZVRyIYLAC8OskAJLWggkQhpB1VJjSke6QLJtmw4dOnL3PffSpk0bpGXx2Wefcd+99+K6GxIRp09IIQRCSnMFpqsQZmG+IQDDjO2G39PLSZ9c4ST1lUIJUFLw/Y/fo6UkEoum3pWbm0tBQQGFhYVBOwyTad++PVOmTDE+jyDa0/xuIQRkZcXIzs4yq8Awak0rVLjSDZidCARyWM9gjgT//yltpAu4dHiey48//kheXi6xWJYR+C2eD5nd4YcfTkFBQWoOnHTSSXTu3DlVByklkydPJhaLEY1EkJYV1BWee/ZZli5dhgiSIsRiMfILipj23dQgGCfoByHIL8gnNz+PGdOnQ5pQCrwXG0EGWzjC9m0K2hTA5CnfkkzEaRXse3I9n9q6Wt58cxTPPf8sTzz5BJ98/DGea4JZ0mngPwlDD5J169YxevRoOnfunOpzz/N4+umnefbZZ1P325bNDttvzz//+U8TnKBBCokIFgqdunRh3tx5xJvjKAHR7CzOPPssWrcpBUtiqP/fAxHQbDKZZMqUKXTo0IGCgnzDB5UJmJs7dy633XYbBx54IO+8885PaPTfAaUUs2fP5vbbb6dnz54cccQR/OMfQ5k4cSJKKQTg+4YG3nvvPbbffnuEEChfoZTPokWLcF2X1q1bI4BYVoxtttmGUaNGIYM9fyFNZmXF6NlzG7744guqq6sBEMGCw/NMEMpvxR8TaAE0IGyLpJPk0w//RbuSMnbaaec0pmICHe649VZ26rUt7cvLEdLCVxrleyCkUWN9zdVXXskn//qQhx6+jx133AGkplXrIrKyI4z57BOU6xgmiGCXXXtT21jL66+/ghTqpxpqYLZSaavwUOilM7JNMbXwvvT/p3+3qe/DsjZVHqFdOPARaW3MPVJKZLgS36j+G/5o+R5CoZS6YJedduSRRx42QQuW5L77H+Ttt9/9yXM/gTCprwCEligtkGgSOkFSOYgWC8JUf7oethDG/CQElrDQHihfITH+odUVFdjRCDpwvgghSCaTzJw5k1122SVYyBjnsh2JsKaiAs/zgv0mVqoPTBsl0gKED1qhFRAGOQaZBEQQeRj2vQkqUiaSz9yO0Brfc/E9Lwi9N+13vSRKmQhdDaxfX83K5cvo2LE9Wbl5qDQfo8CsMH3lm/4OTEdGAwgXKhhTqNYIKVm1ahXde3RHBImhhSVJJJP4WrNz796pbQAWmvbt2rBi+XKUb0zGAiN98nPzaV1ayuIli9FC4fqeeUKbaDlDVxqtPKZ+Nwkv4ZgOwkRtaq1TvrCAshECFs6ZR5YdoSA/Fw8faVu4SZcddtiJqwdfRZ99+yF8D4GHljq1vYNNzJNfwqZoOfw+pC3fNVFyOgwQUwrP982xR0KzatUysiOSwvwCpG2jEUQiAs9tYscdeqK0QlgChU/nLl2YO2c+btLBEqFfWSBlhHbtOrB82XKWL16MZUl8KdGWoLm5ASl+qvmqNAtA+P9wMa6UWVwZSg/miW9oL2xL2D4CWkUL6mrrmD93Np3atUEKBbYx67351ttM+W4qBx00CCfRTNTeEJAV8tU/ExrMYkXD3nvvTZcuXRASopEIu+y8K/v0649AmmhlNDW1tcyYPpVuXTojjJcBJEybNpXHH38cY12w8DW061LOx59/hOs6RuAENC3QFLQqoKJiLcsXLQKhwNVU1TcgfB+0jxISoYKEE78Cf0igmZ1LhiH4WtHY2Mj4L79kn737UlRcZOLVAia+aPFivh43lt133cUMbsA4pAyZELw5ahSjXnudE084gb579UVaAq0V8UScxoYGnEQcz3MCe62PtCT99unHW2++SWNDgzG/tFhThZOCdC2ihdoeElv6BNsgjH95ktLivvBZEazCtA6i0YJbhAhNSQERhQ9Kc+nAL5Q+8TdVj5C4pZQINAMHHMhVV12JRqC05tprr2fMmDEbtV8FZsGAoja+EITsKuklTWSe721ESkqZcZ40aRJvjBpForkJEeaS9BzefvtNKtesxhKQn19AfV29ofZA01i0aBGAySuJIW7LksTjcdq2a0skGkXrUAvY0I+h3A0NXkIKdLAB3XM93nnnHd566y0++OADnnvuOSZPnmxW2EGCZa0Vvjb+uCULF/L5Z5/xrw8/5uOPPmXlyhVoFJ7noJXG9TwqKyupramhc8eORKJZyDCPYvCP0iaIw3UdEokENTU1+J4JRliydAmrVq3C94xZSWtzsGvScc0KNNAqFixYSHZWDjk5ufieEb5Is4FUKW3MihhhCRrLjpAVy6Kici2N9bVIS5g5JkIaMZVznAQ3XHcttcE5eyEMGYZECEJIPMdlzuw5FBcVUVZWhhYaaUG7Nm3YcoutTNSZ0FgBEQhpTJ0hNjdPWtLupq6W94efKkwCHfhqwokjMNqo47lmEQhB+BN4rst3Uyax3Xa9kNI2WrxlNF4/8P1pzHYHtDFlt2vTDs/1WLhoPkKDlJYJ33eTWAH9pdc35BFKmZD09L9btsnU30RnJ5PG9J9+T7gAWre+irqaGloVFJi+lAJQHHvMMZx00klsvfXWZo6kd/qfDA2G9oTAss02Dcd1TVcpE+kYsaOp8RDSYuXKlXieSzQSJGxAgFYsXLiAv/3tcMPXfQUIcnJzaGxuoqmp0bRRm+haX3mUtGlNMplkffV6CPrHUUnQHtpz0EIbP/6vxB8SaOmvUUoxefJk1q9fz9777ks0JwsZsQwXkpJJ304i6STp0rWr0bCkieIKmWt9fR1333M3WVlZnHb6GUEkm40UFmtWrSEZT1JU3IqsrCwQAjsSwZIWXTp3Yd68+SxcsAAZCIl0LFy4kBtvvJEhQ4YwYsQIbrvtNu677z4ee+wxnnzySZ555hleeOEFXnnlFSorKzd6VgWaXWi6aSn00oldB0w9vDdcxaUTe3i1LGtzv7e80t/dEkIIIpEIgwcP5ogjjgCgqqqK66+/nnXr1m22DT8LAZ7vhqFhANTX1/Pwww9z7733cPa5ZzF/zly07yMjkkXLlnDRRRfx9JNPIbWgX5+9SDbF8ZJuyk86btw4WrduTU2NiX5SwYq1rr6e3r17YwVa0+bqKKXZf+UphRaahfPnc/xxx7J69Wp69+7NrrvuSu/evXnssce4/bbbqKutRQVh3FprRr0xiiuvuoqysjL67LEHACeffDIXX3wxF1xwIZMnTwKFMUOlrb5bQmvTF88//zz77rsvt99+Gz/88AO3Dh/O0BtvZMDAgbzyyiv4nofnerRp04aVK1fgecYnKYTgo48+Yucddka5CmlZ+Mon6SaZNXc2bdu1M1pGEPyiMY5yISXxeILm5rjRWoVZvBjaMYzC8zziQQCVCLTo0EqSHuhAkOJrwYL5xKJRcnJzzRJVmKCQSMQGKWhsbjKm3XQEf4b947XYE7q5qyVNhxBCMHPmTJ5//nmeeeYZKtauxQlM5k1NzTz55JNMn/YdALGsLJKOi+c6oBQawbx5C8nLK6KgoMhUzkgw6uvrUwFJRvaGn5LiVsV4vkvVunWIgBlqrUnEk8ZypM1CVAeL4h9++IGHH36YV199lRdffJFnn32Wr776ing8vkFrC/ZbNjc389FHH/Hcc8/x/PPP8+KLL/L9999TV1dHXV0drufiKp8FixaQ9Fyys3NNliAEth0hKytrQzqusDlpYfV/JlIRrELQ0NRIQ1MjTiKJ57j4SlFbV0dNba0Jz0+joUQigecZJUIIQVNTMzNmzmCXXXaFwMcshMZJJHHiCfOcNvxeBi6PnNxckLBq1cpAFmhcP2msLsLD85NGc9tI2mwef0igQbD4DlZ+P/74I1JKeu/a26w00kKwZ0ybgQjCNUmrnhQSKTSvvfYqS5cspUePHmy9zbbYVhQdmCLfefNt0IKyNm2wo7FUZKSUEjti09BQz8yZMw0HbtHw8DiV3XffnS233JKysjJs26a+vp6KigoWLlzIzJkzmT17tgmASENIQGwiMWxLwRDe23Kihr+l3x+WGf4//C28wt/D7w1h/FRYp0ME2lpubi533nknW221FQBz587lxBNPZP369amyDBH+FGFztFJIKYhELRqb6jbq0+LiYq699lruvf8+RNRmzepVCDSu8tiyx1ZccfllNDc2IZSmML+APfv0YeH8BXie6b/tttuOQYMGUVZWlqY5ar75ZgIHH3xwsP4xq+NNIR5vNmZHAfV1tZx7zjnsufsenH/++XTr1o22bdvSq1cvHnjgAT7++CPuve9e014BM2fOZOjQoVx15ZXssMMO5OblMWjQQPr27cuYMWO56ILz6b5Vd8CsrtHQ3NQMLcaMgPZyc3Pp168fCxYsYNasWfz4449cc+01PP3MM/TuvTO3Db+NqnVVSAR77703y5ctJ5l0gu4UJJMOxa1aIywbgnF3HYd1VRX0378/GqMRmQqA65s9P2bvZjotBbSjgg3XQXRoxDY5H0ml0zK0mA7f92lqbCKeSBgakma1bVlBsIWA5ng8rLKhz0DApgsmHQRVENA7aX2WTnchfbfsTx3kIV2yZAlDhgzhlVdeSUWWuq7DPffczbVXX0UikaB9h47k5RcQj8dRykWg+eabidTXNVGxtgo/MNWiNN9NmcIee+xOLBYzQlmCEBohjGUgjLwO24ZSJhlEYA7XgUn8qaee4rLLLqN3794cddRRHH/88fTt25cHH3yQIUOGpPbEuY5LU1MTl19+OZ999hnHHnssZ555Bl27duW4446jT58+9O/fn7Fjx6KlZvnKZajAdK0VoE2/S2vDHlLAaPub4AEhz2g5Fr/m2hgmAOyNt9/moIMGcdCgQcybM4d777qbSwZfwj7992HwpYNJNDcDJkrUsizcwNfl+R4LFsxHBbxDBTxQImmorWOrbltQVFgEQUAXgf88Eo3hac3ylStNnWyob67HV14QSezzWxK6/OGMnFKCr8G2bd577z06depE585dUp0v0WgtSDY2GeGn0ghaAAia440899wz+L5HTnYur778Kp7SJNwESikmfTOJqB1hv/32NxofxgSl0RQVFwOCeHMzQhjmmL6Vo1WrVpx00kkph2RLokj/LjQrhd/rIOLnmWeeSWlfYNoa3hsShtaaPn360K9fP4QQTJgwga+++ipIk2SYX1ZWFtFo1GiZG61woKmpiebmZnzfx7btVHh7fn4+Bx54IKWlpT+pezp0ELYM0L59e1588UWOPfZYVqxYQdeuXcnJyQkYnU80Gm35+EbQqGAVpkgmmzcSaASMKi8/j+J2rZk5YzqDDjoYJFhS0qVDR7r264uvNVLChRddxCsvvcAW3bciZtn07dt3oz7XWjF37lx23GEHunTubHxOmGFOZ4jmE5O8FFBC8cWYL5g/ZzbPjRxJNBrF941pTylF69atGfqPGznvzLM5eOBB7LTbLsyfN4+mpiY6de6EkBLtKpTSDBo0iGefe5qKtRVst93O+MoIBylFSqD9FGbbRH19Pb7v06NHD446+mii2Vl4yueggw/mo399RLw5jlaaNm3aMGDgAMaOGcOgQQdhRSLcMPQGsiJm47rSPpaA2d/P5MD9+tOmXdvAT2eMwGY/mk12VhZVvo/rmG0Bodw380EYphj0azyZJObnBOvWwDXgecGG6fA+DWgSiSRKqUBLCCHQQuCjSKQEqXllOCah5h9G3aYzy5CpiUCrCOe9DhhwuDAlKG+33XajV69e/Ouf/2T9+vWG7jTk5OTy0ksv8fDddyEti+KSMvbYsy9fjR/PAYMOxNM+hx5yOPv3P4BOnbqAFDhOEkvAggULOPHEEw0FSxHQsqmLZRk+Ek80E/qyZeAPdR0vZdScP38+w4cP58UXX2TnnXdOaXzdunXjySef5NBDD2XYsGHcOnw4lmXx4Yf/5J133mHCV1+Tm5uLlBZ9+/bl0EMP5aOPPuKVV16hU6dOKBSu2pBYQmAZM7M05r90eEHAU0uk85+W8yUd6WOQfm/qN6WwIzannnoqs2fN4l/vfsCbr73BQYcdwuCrLueDDz/kwnPP42+HHM6gIw4nGo2y0047s3LFSgoLSxDCoqqqik4dO5ltKcFWLl8rKisqOGD/A7AsOxB4MhgH8JSPEuD4hg9qIOl6qaxSAokOeX6qxpvHb5B9m4YKwjinTJnCkiWL2f+A/U0EW6DGCgVCaaQGS2x61/vkyZNZuGghdsRmiy23YNHixSxcuJCVq1bzxhtvsHr1GnJycti3//7BdDLQWm/IOm9bRpv9CSEEKVkCW7bjOLiuu9FqMZx4LTUXEWSqb9euHaWlpZSWllJWVkZWVpYx68TjqbPGwiz3Ybme59HU1ERFRQUrVqxg3rx5TJ8+nUmTJjFu3Di++uorpk+fzty5c5k1axaLFy9m1apVLF++nCVLlrB48WImTZrE559/zrJly37Srpawgs2MBP3SuXNnysrK6NWrF/fccw+xmNFsDbH9fFkEmlAymSCWtbHwC9tmRWzySwpZX1ONDsLQly9ewvKlS9llt12xbAtPazp16cyxxx3L0mVLN1pUhAuE2to6KisrOevss7FsO8VE0oVo+l+pFSCKCd9MoGOHjrQqLiYebDZWaUeDdOvWjeZ4MwsWLDBZCiyJ75mMEEopojGjwaxZs4ZoNMrWW2+DJcWGFF/B6jy9Djr4I6T799//gDZt2nDlFVdiSYnruViWxcyZM4mEC58gtdVpp53OypUrqK5ej9KaWCwLbVm4AXOvramhuaGeC847HwIhJi3LRFgKged7OKEVIRD4juPy9NPPcMsttzD81lsZPnw4w4bdwooVKxk69AZuvfVWbr31Vm67bTiPPfZY+vQx9KJN1Jo2kydYFYf6n3mP4zgIScpfpYNndWCKSyQSPPLII4wYMYLbb7+de++9lwceeIDHHnuMp556ipEjR/LCCy/w4osvMm/evBQNtKTDUMhFolHq6+s39IGUrFyxglNOOYWIbSOE5Nzzz2PmzJlUVlZiWZK27drRpUs3hDBC0rZsxoweTfvycnbccUdksEk95PUa46uWQaASOmCZwdjG4wmk0GiteOihh+jVqxe77LILkUgEy7IMjQSnVxx19FG8MWoUFRVrEULz8ccfs9VWW5qFkzD07LouXbt2pba2lvz8fGJZMRCaSDSK0iaDkqlXGt2n8bPw900hmUyydu1a1q9fT01NDXV1ddTX19PU1JRaKDc3N6dMo+H8CKGVMtoomoST5NNPP0EIOOOss9h9jz3IzsqmV69tsSM2o0d/gfYNJZxzzjm8/8H7wbhJDtj/AO64YwSFhUWB+dsE+EyZ9C0nHHcc6CAUH20WS2FksjTaodYahcCORnEcFyfpgzLC7NfiV2toXppPKJlM4nkehYWFxhQHjBs7Fs/1OenkU9FpclILUGiUJXGUpjnuGGYQOGiVUkyZMRMn6XHAPv2576EHsCwLoSWe9jj6qKOY9SPs078/W22zNZ5SWMInCG3AbXKIWlGkjCJEi/0iAubMmc3w4cNJBuc7RaPRFNMLj0LJycnBtm2GDBlChw4dzKPBtoL8/HxOPfXU1HfphBC+K/27EPvvvz/77bffTybtphA+n16+bmFqTNceNwWVvgFWKUaMGEFDQwMvv/xy6hiK9BXxpiCEiS3Ulg1JD7/Jw/OsjdY9MtgqkBPLpjy/jCXLV5jVVKPHyy+8xLnnnkt2XgEgiAWv26bXduEbUuWE/oFYLMb++x+Q8n+aPgAwk0xpcJXCBeqSzXTOKjORlJakcl0lObm55OTmE8nK2qj/hBAIZUyT1XVG6O6919702Lon7773AZdeeikCTVNTA2+8PoqDBhxM165boQVYQmNnRfEti8aEg+FzGo0w/RP0w/qaaj75+GNOPvFEOnToYN4vwEk6fD3+K/Y/4ADad2yP1pAVyUHEBGedcx4EC5ANplVjciwsKqb//gOwIxtSThnhYXwziYRZQJWUtaFNeUc83ygdPbboQdSOpTT/pqYOfPDPD+m7z94IKVJCsFWrVsE2B1KwbIv8ggKqKytRKoLUZg6FfMQHtKuIRXOwrRjSE/hW4ANJy/wSzq2QbpVSNDU1Gc1HShKBSXOrrbba5LyRgXlNWhalXduzbMkivIYmdHaEqtpqpn0zmTvvvxcsia0F0eIizr7gAtasXkX7Dp1NGXa4f9MimUxgR6NcMvhSbDuKxJSvPYW2jIbflGhGC0ksmofWEiEUQoFC4iPQ2mhPs2fNpn15OQV5+aktKUJpIjJKEp/t++5BxdAbmT55Ch2O+Rvb9OzBxIkTaGw0J8iDiVBMJBLk5OQYoSgtLC3JjuQghARhoYRC4wMmqi+kOR+B423auuT7Pl9++SXXXHMN2dnZ2LbZ1xmLGXoILT6+71NaWsoDDzxAXl5eaq4IYQJRNBqJYO2KlVSsXssdt4+gy5ZdTR2UItEUJxlPsme/vtgWaC3YbvsdiceT/PDjD+y0885EI1mI6AYN3EsmefnlVzjm2ONpXVaOsC0idsTMJ6XxfbC0BE9QWtzGnPShXbTv4SDwpCQibbR2kTLy6wSb/pVIJpPa8zy9bt06PWDAAN23b1+9bNkyHY/H9cqVK/UWW2yhTz75ZF1bW6tdx9Vaaa2V1r7va8d19H3336ejkYj+8P0PtOe42vd87Xmebmhs1Lv02U3nxLL1sOuH6qTj6KTvas/19A/f/6ALCwt1UVGRHj16tE4kEjoej2vP93TSc3XCdfQNQ4fq4oJC/e3ESdrzPO37vlZKpepdW1urp06dqqdMmaK/+eYbPW3aND1x4kQ9duxY/eabb+oXXnhBv/jii/rtt9/WNTU1G7X5fwnxeFwnEgmdSCT0ww8/rLt27arHjx+f+s7zvJaP/BRKa6W09rTSk6ZM1FFb6vtG3K6176du8X1f+76vXdfVp59xmh5w4P66rqZGP3z//Xr8+C91PNG8UZG/D0pr7WmlPO16nm52k7omGdd77d9fD73qSu26cR33E/q+Rx7QbUpL9dIFi7XjOCkadV1XJ5NJ/e23E3VRUaH+4IP3dTKZ1ImEo2f9OFsffNAh+rZbh+s333hTX3n5FfrWm2/RFWvWau2b9vtK6fmLFurSNmX6qCOP1K7jatfztKt8Q9ZKa9fz9PQfvtd5ubl67BejtZt0tOuY9/7zn//U7du316NHj9aO4+jGxsYUbXqet0k6VUqlvt+oJ5Qyc8hx9MLlS3VZeRu91x59tOt52vE97Xue9hxXe56nHcfRjuPodevW6R133DE19q7rpi7HcUy52rSzsblJH3nMUbpVUZFeNn+xmZtKaV9r7SutHaX0sWeeovv23k03VNdq3/G16yvta5Wqc/o70usdttVxHO15nk4mk8E4JFJjlX6/67o6nkjo868erHfs1UvXrqrQ66vW6auvu1rPnfmDqXSAsE/Cy/O8jfozfG8ymUz9rpXSyvO1r5Ru8hx9zU3Xa8u29af//Egrz/RzxZq12pZSv/byS9pJNOuEk9R77LGHPvrIo7SbNOUkvKAvG+M64Xn6jc8+1NmxLP3B2+/opJvQK1Yt1/vs008/+cRjOpmIayeZ1IsWLdK9e/fWjzzyiE4mk9p1Xe25vh7z1XidX1igLzr3fO07jnbchJmHZgbo6toa3a5tW33H7SNStBC2Uymlk8mkbmpq0mvWrNEVFRW6oqJCr127Vq9evVovWrRIL1++XK9YsSL16bpuig7DcnyltKd87XquHj58uO5Q3l431NVrJ2HGKuQpW2yxhZ4zZ06KnziOoxOJhF6/fr12HGejenmBrFi6dGmKb6fTtue62nFdfe8jD2jLkvq5p57Rzc3NOq5cffpl5+u2paV60eKF2ndd7XqONjPvl/Hzy/40SClRSlFVVcX48eOJRqMUFhbS3NzM8OHD6dSpEyNGjDAHSbYQpFpr9ttvf4QQ1NXVpSnVJiprfcU6tO+zXa/tjPQW4CmPl15+icbGRk466ST69OljVnBpmopSih9//IHS1q3p1m0L9CacnTk5OWy99db06tWL3r1706tXL3bddVf23ntvjjzySE466SROPPFEDj74YPLyTL7B/0WE2te4ceMYPnw4t9xyC7vtthsE/aQ2Ean3c/A9E8bctqxdykzTEjk5OdRU1zL6888pLCpMve/PQPhKgTFde45DvKk5COsH7Wv27rsPkUiMyVOmpDTQcNWplGLk00+zxx6706dPHwBqamqY8t13nHLKKQwcOJDdd9+dG2+8kauvvprCwsKN3t+mTRvalJXR1NhEojluwrrTCFtKwZtvvkn79u3pvcsuRiMM/KL33Xcfp512GnvttVdqhRzSbniJTZjcwt82BSGMnzjRFGfLbluANr41T4XJnDdo8X5w+m96eanVeBp04JfbYYcd8FyPlStWBhlIzH41CaB8onaEvPx8olnm/LeW62Qr8FuqFgEJBO+Q6ScRBynbNlWfsE/KS9sQTyZwfI/33nuPQw46mC26b5m6Lyw/fL7lO9PvC+8RIghQkwI/8N2sWbsWaUu26NF9Y1MfpBIPaK3ZasstqampNnkhwyg4wIpG0Npn9vTvKSsrZedddgUNbcra8tpro3jvvQ+4+eZbePbZZ7n//vu54YYbOOOMM1L0iYZ27dohpTQR1i1oYiOvUctODyCEMZEXFxdTUlJCcXExpaWllJSU0KlTJ8rLy2nbti3l5eWUl5dDWn+lQwdm1s8//5wjjjySrKwgmUDg33/yySc5/vjj6datW0oWhOOVm5u7Sf6Sk5NDeXl5ivbT2xb+XVm5DiktYtEolgz2VHo+eTm5ZGdlG031NyQO3fTs2QRU4Mzr2LEj1113HUopHnvsMc4//3xycnJ4/fXXadOmjam82FBs2Ohu3bpxwAEH8N577yEwdluChuXk5hKNRtlxx51SNuy5c+fy3HPPscMOOzBkyBDsILeg1kGuPwzlzZo1myOPOoqCFgwpRMjo05mIaGE6BH4xUOK/BSExqrSosZCZrF27liuvvJLzzjuPY489FoJ2W0FGixDpAi78v1IKlXbMi21baCUBE5Wabs70g4hP27aZN38eS5Ys4aSTTk6ZO/4MhAwmZK71tXU01jdSU1MPSiCx2Kb7NvzjHzdx1113M2fOnFS9XNflgw8+4McffuThhx8mPz8fz/OYMWMGN954E/PnzWPWrFmM+/JLRo8ezYwZM1i2bBmeuyGTfyQSoXuPHqxevZqGOnO8jukns1+sOR7nmwlf07dv35SpraGxkWuvvZb27dtz1VVXEYlEUj6XdMYaXunY1HcE4x32++pVq9C+4rBDDjObWUk7Ty94PhzrdBoPmU8o6EJIKbGkRXl5ezzPY/XqVRBG5AbCSShwAnOhCvYB+sqHtD1tIW8I3ysCBmYFvqbwMzwORQRMuOUc1FpjSUl5aRvWr1/PmPFjkVLQZ/c9UGlbR8J3hDScPrfTywrrYQe+TBEmAsAkcViycDE9t92W4uKiVM5QHfAM27ZRwWLknHPP5YcffmTChAlmHnieOS1BKxrrGvjw7Xc544wzKSlrDULy3XdTjU/x9hEMu2kYp556Gg888ACHHnpoqt5aazzPJy8vn1YlJaxduwaN8TGp4B1e4PtHQ8SOpPxM6f1gxt/0dTgO4WfYH+FnOGfT+YHpQ8NTqqqqWLhwIX369DFupcBU/fLLLxOLxbjoootS75eBsN8UfwkR8lSR5u5I1T9IiFCxdi0lrVrRZ889EQKkFihXk5OVgyWN6d3w+5/OjU3hVwu0kFHl5ORw7bXXMnLkSAYMGMADDzzA7bffTklJSaqzUqHGQQOktIjFolx+2eWsWrWK9evXo4LNidKy6LtPP5Kuw8RJEwHN6pWruOKyy+nYoQNvv/027dq1S00W27bRmEk+5bspRCI2F1x4YXD8w08dp0IIsrOziQQnv1pBNFY6IYTfbWpQ/lsRCqFwg2ddXR2nn3462267Lddee+1GDCVkIpuCCPI1JhIJE8UWbHiPRLJAWPi+j+tu2FunA4GhtaZdu3YMGjSIs84+22xq35wq9xuxcSmC2ppa/vXBh+y2227UNzby9tvvoDyfiG2isp586ikef/xx7rjjDj766COGDx/O1KlTeeWVV1IpqGzbpn///txxxx08+9xzPPHEEzzxxBPcdfddHHXUUeyxxx5cdeUVJlglyPB/+mmnsXL5CirXrDUJDgOmp5Ri3bqqVKj+k08+yRujRjF06FC6du3KQw89lNL2/wy6Csduwbz5tCtryw7bb78hRZqU5liUFgy9rKws9V1I9+HxHenQQP/+/SksLmLVmtV42sfXmobmRj7+9GNee/VVpk/5jh9++IFbht/K+PHjcYM8g6HQSJ9Xv4T0ubep+33fp6yohMamRiZPm8IxRx9jjriRciOeJoJ9l6GwallWSPumfzY8KBAmSCeZZH1FJX377ElBkEPRdV2WLF6MVpolS5bQ1NSIVorddtuNe+65h2HDhjF58mRkcHpyU7yZm2+8iT69d+Oaa65BWhZawZrVa3nzzbd5+ulnufXW27j11lsZMmQIjz32GDNmzMAPTpWQlqSosJAdd9yRpJNEeR4iSFmmMcE4c+fOJR6PU1VVRSKR+IlQS+dhYXvTeVrLa1MwyYYVEyZ8jRCCAw7Yn1gshgZGjx7N66+/zrPPPktpaSkybYGQLhxb0nhYj5D/yDQt3bxT4TguS5cuYYstt6S0tBSlNLaUOEmXrFg2sWiWGbHfcJiu0C2XSZtBuMrTaRqCCFYbYWeFhJOuKpvksSayxU0kGXLNEHps3YPzzj3PZBGRkqnfz+DEY44lP5bDPgfsx7Tp0+nQph233D6cbt26pQZHB6tVDXi+xwUXXMCuu+zCWaefRSQSAfnT1VpY33Si3hTCe37pvj8bLbv/F9+vTZ/6vgl40Nrs0/nH0H8wadIknnnmmVSfiTQzHGllhyvbcDz9IJO6ZQWh3QjmzZ1Pn1324LmnnuGI444AuSHUWgfbGR559GHOP/c8WrcqwYoEK25LYEuj1f1eaDRa+6AF2jfnsrmhGU1ppCXRCDzPRFd5noe0DAOoqqqiVatWgePbtNs0XzB+/NdMnPANAwYeSM+e2yCFWc3+OGsWL7/0Eq+8+BKjvxxDrx12ACGorq5m7z334rZ/3MxRJxyHlkYrEkLw6quvcP3QoXw19kuSQch7aZsyCgoKIG1rx0bM9JfGNkBLmggXL+eddx4NNbW8+srrWDEbJcOtuBvK9gNNeuXKlXTuHARLBIwsHG8RmN/CeZx0klx43vn4SZfnXn4RDSScJN9N/Q6vOUkkN4uIo2nwHbLtCLv22QPbNmdXtWRkv6aNLdsXIhSS48eM5YmRT/DoE49TmFeAFAJhW9jWT+kq5EMhfun9Wpt0ZPPmzmX//fdn5JNPcdBBB+ErzZKlS/ng/fdIJOJICbvtuhv77r+/0RCUZtq0qYx6601ycnLZqtsWLFyymO237cVBBw4kmmMiVkWwZ+zRRx7l/ffeJysrFmSAMYd4Ll26lIsuuogrr7ySgrwCfAkjRz7FXbfexsRJEylt1wahBN/P+oFRb7xBXW0tq1asxLZsSkpb8/e//51+/fql+n1zfbk5hP0T8kXAbGAHLrzgQr4eP55DDzmUAwccyLx58/hx1iwuvfRSevTokeIpmxOMpNFYSGch0nmQECaLSE1dLXvs1YczTj6Va668GmWBtGwuueIKpo/7hs/GjiY/Lw9fgpQmIvUX0dKp9ksIHZMtHc0tndkhQmdvMpnUzc3NuqqqSg8ePFhPmDBBx+Nx3dzcrBPJpJ4xY4a+99579T333KMnTJigm5qaUs7m0IGZchzH4/r1Ua/rG264QdfW1qaczKFjMt05/N+CsF4trzDI4tfUWwVObeX5OukkdTyZ0M3JhH7sqSd1165d9Y8//qibmpp0c3PzRo7flmWnvvOV9hxXT53ynZ749QTtJl2dTHracZWeOXOWzosV6ndfe0+7STPGoYN4/fr1+tFHH9WLFi3STU1N2vM87TrOTwID/ghU4FgOxz8V8OG42nVMfQztmXeG9NUyCCEMIJr83RTdvXt3PW3KVJ1oDugucFYnEgm9dMkSvVWXrnrhvPnadRzt+Z5udpL60ssv06effIp24knTRs/TzU5Cn33O2frYY47RTjJot+dqx3V0c1De5ubDr0E6XYRtq66u1jvvvLN+/733dDKRNOMXBHe0fDbd8e9tItAkRNjHjuPo9997T2/fs5dONjVrL+lqz/N1wnN0PBE3AShBIIPv+doLyv65ef9rENYx/HQcR1dWVuq77rxTL168WDc2NqbmdTweb/n4b0JI8+H73nzzTd2rVy+9rnKdCVBICyoKrzCIJeRxyWRSx+Px1PeOYwKBQnpLJBO6rr5OP/7oY/qRBx/SjQ2NOp5M6ERwb0VFhb700kt1SUmJXr58uU4mkzqRTOhFixbpTp066bFjx6beFdJ3SP/p/fRH+jxESGOu6+qkk9Tr1lfprXv00A/ce59eMH+B/uCfH+hp06f9hLf+VoT9HtJzyOuSjqNnzZ6ty9uV64lfTdDK97Xre9rzfX3ttdfqHbbdTtdUVWvtK+35JpDn12DzovZXQKfZUH9uZRRKddu2KSgo4Oabb2bMmDHmzJzgWIeePXty8cUXM3jwYHr37m2OnQk1vrSy4/E4zz//POsq13HNNdeQk5ODDhzN/I4Vy38S4crl5y61idRU4fdKmc0KJlGuWel88cUX3HP33Tw18im6dzfnjtlpx7anl90SYT7N1159lZra2mClby4pJViCWFYMpRUNDQ0cffTRPProo4wYMYL99tuPTp06pVZr0jLmyZ+jg9+CkGbC8sLxFdJks0i9V5o22oGPJkRYl3DVv2TJEnzPIxqNIgMTSWhdUEoxZcp3DBgwkPbtTZi97/ugNYMHD2bJ0iWsXrM62EagqK6uYfz4rxhw4ACj3YY+ycD8Fvb/pvr81yCkgVCT1lozdepUWrduzd777GPy7YWaWYtnSRv3X0LYP0op+vfvT7vydowdM9b8qHxQ5uRgtEmwLKU0fZ8e8v0HoYKjUlzXpb6+nmeffZbDDj+c8vLy1PhLKY0F5g8gvT+VUnz66aecddZZFLcqxvW8jWhNpWXTkWnmOpHmo0xpKcHWI3OvxdNPP8MzzzzDWWefjR3sVQvLLS4u5vTTT6dTp05Eg6TWUkg6dOjA0UcfzYcffrjBHJmmBYkW/sL03/4IQr4gpWTatGnU1dYxYOBAOnfqyIABA+jZc9sUb/+9Yx0+F37qwCIkpeCrr8bTuVMnem2/XSqBM0G+Dcs25sqQzn7t239zz4SNC+2jLTu/JcLfQyKQQdaMK664IpWgNvw93TYbEnHLsiORCPvssw/nnHNO6v2h8Av//m9CujAJP0MGmM6wvMAJHJqMwt9ChPd7ypgvlFLMmT2bq664guuvu569995no378uX7QQZohpRQzZ8xg7Jdf0rt374CYTN4/x3NQysdR5vypuro6srKyWLBgAWeeeabJxp0mdMJxaDlefxQhzYRXOkMJP8P2hlcoVML6KaUYMGAA++23Hzf94x+MHzcutQF19uzZvPvuu1RUVHDjzcOMHwTj95VSUt6unMOPOIKRI0ei0ayvquLZp59m7Zo1VFRUBBuAwbJss7coSBn1c/3/S5BSplIphckAnnrqKW644QZyc3Nb3r4Rwja3vDaHkF5iWVlccOGFPP/iCyTicZQf5I5MG4P0Pg77/7e2M13Qaq1paGjgwgsv5Mwzz+S+++7jsMMOo3Pnzshg/qeP7e9FKMxUsFCYO3cua9as4ZRTTkEFZvSQbsJ2hQE96e22bTv1XUh34Wc4X+PxZmrraoNDLzfk2UwkEiSTST799FNOPfVUCgsLN+IN559/Pp9//jmVlZWp+nqBoCUYpz/SB/+vvXMPjqq64/jn3t1syCabhncgjoNWlDoEEURbBploGStJ+KN2ZKYvxwd1BuShgnSokYdKLdMIWoMdRHDGjgU6Y4sz7dAqAYFIRSlOH2ohbUcw8qhJICGwye699/SPe36XmyXBPK1xzmdmyT4ud/fec87vdx6/8/11hv+7Lfbv38+4ceMoKirSogEXci5Km+sNSicOlTJItaXY+cZOKpY/RlYsy5/Kxw8WdBzHlz3rQaewy2tofYUUljynm70OqZjhnozc7P4o8N4i1yrPlaxhZNx2WxteT68JhCuRCuX6crS20akTJ7nrrh8yevRo1q5dS3bMl9hSodFqZ7iuy/Hjx6mpqeHZdc8Qi8U4ePCgrwxk+6Hg7/31b9xSciuXX3Y5iUScnJxBvPLKK37ONd3Ie1J+nyeeFou1bF9zDsfln+9/yN/f/wdDhw9jyJAhxOPxQAHG8zwiti8S7Kv5+9tKJHHk7Nmzyc3L5ejRY+TFc3Edh+LiYkYVjcaO+GoeFu3XkHtKKpUCfQ0vv/wyjY2NPPTQQyil2hna3iL101P+SOmpJ1ZTPL6Yb99xB9i+Ak9flq3Uf/Q1trW1UVlZSTKZZOHChUFiSM/zglFMb6/T06NAdODHqlWrmDp1KrNmzQJtN3rqMMSeeZ6HsqDpzBnW/vxpjh09ynfuvJOrrhmL8hSnTp6kvr6eoUOHMm3atKDTJe3dcRzWr1+P53ksWLAgsAexWCxo1z35fZ2h9Ejp3Llz7Nm7h2XLllE0ajRVz1UxZswYiGhH1gdlL3VMRr2WZbF3z142bnyBFzdv8uuzFSFiWaRdhxXLl7O7ehe7du0mNy8XT88adaVd/d8cWvhru1OZPO3BpaJnPr5oBAYj5KzCldMLBVrIe6lUKtCAJOT4Hcfxdc/SaRbOn8+2rVuJ58TJTySwdW9Kzi90dE+UUrS0tNBQX08kEqW8tJRt236D8hyIKBwszjSfZdOLL3G6oYHzLS1YFqxYsYKEjgiT3yzOrC+NXl/hadFUS6ZDXY+I5UfhSnCHGBO0UfMko67lT62BheM5NNQ3sGnTJubPn088J06QbR1wPdfP2GtLytaL73l3kDoO8Oabb1JTU8OyZcuw9NST1I2Oyra7SFv0tDzT+eYWnli5irvvvpvxE4qxo5F22o+9JVzPZVZCOmDpdJqsLD88PdJJlGJP8ELRwJs3byadTjN37tzA7rh6m0ZPvifs0GT60VaWH83d2EA0O0Y8JwfbstvJ5tkdRL8mk0mWLl1KWVkZM2bMCK6/vxyap1NBffDhBziuS0tTM/FBOdx4001kack7GSn1BrGBrm5bdXV1rFqxksceq2DUZUXYkShtrUlOfnKClJNm9ZNP8tG//8POXbvJGygOTZ5Lhe1qYYX/vxhvMaZdPUd/E9xS5UfoOa5LTc0+Dhx4l5azLTy4aCFpx6Xy6Upqa2tZWfEo10+eTHNLC+vWrWP3rmpWrlxJScktELpO1/WTLz7++OM8s24dra1toPS+PH3p4iAz74UKRR7JZ9FolHQqzYOLFrF69U/9SKKIhWdZfjJMy8ZXKNPTAfocEb3+JOfpC6PTHygd0eZ6LtFIFOX50kbozfsXGYlAjV6Hjyqtdq9Fr510Gtvy03vYloXrecEWFdu+EFbelYZ3KeQ+A7S0tBDRGpxCd9vMpZBy9JTCcR0i2CTPnSftpMnPz/f1NTtIy9RTwvdcDFy4LoU/76uOkjjtpqYm9u3bx4wZM3z1/dC6VEdtpiuIPVK6rdu2jaW3Kkl+O9lzi27L4e+V10rbscbGRqqrq5k1a1bQcekvhyZ1zNGzXRboyF8XK2IH6Yl6i1yfo/Vv165dS3lZOZMmTcKK+NZl65ZfU/GTR1F6P+c1V41lxx//RCI/AXrdtivX/7k7tC87ShyaAuW6WssSPj7xCffcdQ8jhgxnzc+e4tnnnmNQXi4bnq9i+SNL+MG9c/hxRQWDBxfw6rYtlJaW8uwvqoJpCdv2w9OTySSLFy8OdPJksTydTgeVX9ZdnFBm3ba2tkCw1LZtsrOziUajJBIJFixYQFlZWbtGLSoB+OZ9QCMV3LrohUEIbkumNTD3qWfoflFPSKX8JMbSaekPh9YpvfjdHRF2L47ex9rU5GtcRiNR3z7qaX3RBBU7lJ+fH9wH+ftZGIfWx8jNVJ5Ov648lGVxquFTbr25hO9/93uMGjWKmaUzOXO2mZLpN7Pp+fUc+ego37ztW1x5xRi+MeUG5syZw4MPLwlGQzLyEgcllR3d68ssRukFoiuVq6P95K9UmkhoY6ScT3rFXalABoOh75CRjK03WMu04+fm0PoBFQpyEbtl6SAbQssxMlKX64/qKEexV2KXLsVnH2HoNp5OZ648L5h+qj1yhBN1dTSdOc306dMYWTiCt/btJT8vj8NHjlBSUsL48eM58PbbnGk8zVStPxgOfsl0RDIik+dynG3bxGKxdo/s7Gxyc3PJz88nkUgQj8eJx+PEYjEioaCagdpoDIYvC+Foy4GOdLTtTqLWw1h6+lUcnTgz+awrdH52Q48RJ2brCul6Ljt27EC5DlOnfp0rr7oSz3N57bXtpNMpxlwxhusmTkQpxd49exkxfDjXfu3aIBJKKrc4M3FaHVV66Q2FR2ziqGQKUs4h78u56OP1GYPB0D2k7YU7rfL+QCR8PfI6PBsk74kNEqcX3hLRnWs3Dq0fcR0Hhb//4r1Dh7iueAK3z5wJKOobPuXI4cPcOOUGZpaX+mHiwPbfbee2GTNIaAmljpBCtkJTjefOnQPt0DIrkUw1Wlq3MZ1Otzsm83iDwWDoay5la6yMWSd5yKxUVzEOrR+QovJ0cMipEyd47+Ah7r3vPmKxLDzL4uChQ9R9XMe8uQ+Ql5fAQrFndzWf1v+X28tLuVTGhHBl8DxfxWPx4sWcPXs2GKZboteHByiSred5+90DLF36CNu2bLmocmVWMIPBYOhrxM6E7Y3Yn/AUI7ojLiPUrtK9ow2fiSUFBESzoriey9YtW0nk5lFaNgs7GgPb5tXfbmfixOuZcsNNeHoD7+5d1RQWFpJXUMBb+/98kcPJLHhxXIMGDaKiooJ4PI7VLlWDzpUlFcWGa66+mlPHT1z4vRkVy2AwGPqDTDuWSebnckxnx3eEcWj9TCqVYt++fUyePImRhX5Kj2NHj/HuO+8w+87Z5CYSKGWRTLbxh9/voKGhgZ1vVF8yWaask0kY/+uvv05tbS22joySSEg/csj/m5sbp3jCBOLxHD9JocFgMHzJMGH7/YCMnmTfxeHDhxlVWMiQwUNwlcf51iT/qq1l7FfHBhm+Pc9j586dZGdnU1JS0mHAhxAOcwWYN28e5eXlTJ8+naqqKk6fPu2H/GZFUZbiK7l5zJ3/APmDC3hpw0Ys12LuwvmZpzUYDIYBjXFo/YCMoFKpVBDAkTkf3NraGkT1+ANlUaG28TxFJGIT1arqmcj55TskE3hBQUEgmWRZvsKFZQOuwo5G8Gx4oeqX5GRlc/8D8zJPazAYDAMa49D6ARmhibSPODTR+kOnr087fsZulIVt+VI5om2XFet8I6E4NNd1OXDgABs3bmTDhg2kUikqKysDZW/LtmhNJbl89GU8vGQJVlaEX216iXQyxbxFCzNPazAYDAMa49D6ge7cUoXCkpBGy/9HKX+vWGcLoeLQ0uk0a9asoa2tjYqKCmKxGM3NzRemIy1/DU95ipGFI1EKnq+qIh6P86P778fTklpKh8aqAaxGYDAYDB0PAQy9IjNS51IP2/KTJlq2vNc9sd9x48YxZcqUQPGjoKCAYcOGMWLECIYPG07R6CKKiopAwV8OHuRMUxP1DQ3U1dVBSCC2O07YYDAYvoiYEdoAJLyGJq/DcjEXwvb9opXpT3FejuMECQzDo7TuOFKDwWD4omEc2gBEhfahoUeE4twsLSOTiReSwwpPLWYebxyawWAYqPwPzmHkDeFL8IoAAAAASUVORK5CYII=)\n",
        "\n",
        "- 비용 함수의 최솟값을 계산하는 알려진 해가 없음. 하지만 볼록 함수이므로 경사하강법이 전역 최솟값을 찾는 것을 보장."
      ],
      "metadata": {
        "id": "jRMwKEtggZEA"
      }
    },
    {
      "cell_type": "markdown",
      "source": [
        "### 6.3 결정 경계"
      ],
      "metadata": {
        "id": "SWVjsrRYg-A8"
      }
    },
    {
      "cell_type": "code",
      "source": [
        "from sklearn import datasets\n",
        "iris = datasets.load_iris()\n",
        "list(iris.keys())\n",
        "\n",
        "X = iris[\"data\"][:, 3:] #꽃잎의 너비\n",
        "y = (iris[\"target\"] == 2).astype(int) #1 Iris-Virginica면 1, 그렇지 않으면 0"
      ],
      "metadata": {
        "id": "qrOJugTahPED"
      },
      "execution_count": 24,
      "outputs": []
    },
    {
      "cell_type": "code",
      "source": [
        "# 로지스틱 회귀 모델 훈련\n",
        "\n",
        "from sklearn.linear_model import LogisticRegression\n",
        "\n",
        "log_reg = LogisticRegression()\n",
        "log_reg.fit(X, y)"
      ],
      "metadata": {
        "colab": {
          "base_uri": "https://localhost:8080/",
          "height": 80
        },
        "id": "ij2IyiEIhPXz",
        "outputId": "258bbb32-baaf-4fe5-a511-f80bbfe3bb9f"
      },
      "execution_count": 25,
      "outputs": [
        {
          "output_type": "execute_result",
          "data": {
            "text/plain": [
              "LogisticRegression()"
            ],
            "text/html": [
              "<style>#sk-container-id-1 {\n",
              "  /* Definition of color scheme common for light and dark mode */\n",
              "  --sklearn-color-text: #000;\n",
              "  --sklearn-color-text-muted: #666;\n",
              "  --sklearn-color-line: gray;\n",
              "  /* Definition of color scheme for unfitted estimators */\n",
              "  --sklearn-color-unfitted-level-0: #fff5e6;\n",
              "  --sklearn-color-unfitted-level-1: #f6e4d2;\n",
              "  --sklearn-color-unfitted-level-2: #ffe0b3;\n",
              "  --sklearn-color-unfitted-level-3: chocolate;\n",
              "  /* Definition of color scheme for fitted estimators */\n",
              "  --sklearn-color-fitted-level-0: #f0f8ff;\n",
              "  --sklearn-color-fitted-level-1: #d4ebff;\n",
              "  --sklearn-color-fitted-level-2: #b3dbfd;\n",
              "  --sklearn-color-fitted-level-3: cornflowerblue;\n",
              "\n",
              "  /* Specific color for light theme */\n",
              "  --sklearn-color-text-on-default-background: var(--sg-text-color, var(--theme-code-foreground, var(--jp-content-font-color1, black)));\n",
              "  --sklearn-color-background: var(--sg-background-color, var(--theme-background, var(--jp-layout-color0, white)));\n",
              "  --sklearn-color-border-box: var(--sg-text-color, var(--theme-code-foreground, var(--jp-content-font-color1, black)));\n",
              "  --sklearn-color-icon: #696969;\n",
              "\n",
              "  @media (prefers-color-scheme: dark) {\n",
              "    /* Redefinition of color scheme for dark theme */\n",
              "    --sklearn-color-text-on-default-background: var(--sg-text-color, var(--theme-code-foreground, var(--jp-content-font-color1, white)));\n",
              "    --sklearn-color-background: var(--sg-background-color, var(--theme-background, var(--jp-layout-color0, #111)));\n",
              "    --sklearn-color-border-box: var(--sg-text-color, var(--theme-code-foreground, var(--jp-content-font-color1, white)));\n",
              "    --sklearn-color-icon: #878787;\n",
              "  }\n",
              "}\n",
              "\n",
              "#sk-container-id-1 {\n",
              "  color: var(--sklearn-color-text);\n",
              "}\n",
              "\n",
              "#sk-container-id-1 pre {\n",
              "  padding: 0;\n",
              "}\n",
              "\n",
              "#sk-container-id-1 input.sk-hidden--visually {\n",
              "  border: 0;\n",
              "  clip: rect(1px 1px 1px 1px);\n",
              "  clip: rect(1px, 1px, 1px, 1px);\n",
              "  height: 1px;\n",
              "  margin: -1px;\n",
              "  overflow: hidden;\n",
              "  padding: 0;\n",
              "  position: absolute;\n",
              "  width: 1px;\n",
              "}\n",
              "\n",
              "#sk-container-id-1 div.sk-dashed-wrapped {\n",
              "  border: 1px dashed var(--sklearn-color-line);\n",
              "  margin: 0 0.4em 0.5em 0.4em;\n",
              "  box-sizing: border-box;\n",
              "  padding-bottom: 0.4em;\n",
              "  background-color: var(--sklearn-color-background);\n",
              "}\n",
              "\n",
              "#sk-container-id-1 div.sk-container {\n",
              "  /* jupyter's `normalize.less` sets `[hidden] { display: none; }`\n",
              "     but bootstrap.min.css set `[hidden] { display: none !important; }`\n",
              "     so we also need the `!important` here to be able to override the\n",
              "     default hidden behavior on the sphinx rendered scikit-learn.org.\n",
              "     See: https://github.com/scikit-learn/scikit-learn/issues/21755 */\n",
              "  display: inline-block !important;\n",
              "  position: relative;\n",
              "}\n",
              "\n",
              "#sk-container-id-1 div.sk-text-repr-fallback {\n",
              "  display: none;\n",
              "}\n",
              "\n",
              "div.sk-parallel-item,\n",
              "div.sk-serial,\n",
              "div.sk-item {\n",
              "  /* draw centered vertical line to link estimators */\n",
              "  background-image: linear-gradient(var(--sklearn-color-text-on-default-background), var(--sklearn-color-text-on-default-background));\n",
              "  background-size: 2px 100%;\n",
              "  background-repeat: no-repeat;\n",
              "  background-position: center center;\n",
              "}\n",
              "\n",
              "/* Parallel-specific style estimator block */\n",
              "\n",
              "#sk-container-id-1 div.sk-parallel-item::after {\n",
              "  content: \"\";\n",
              "  width: 100%;\n",
              "  border-bottom: 2px solid var(--sklearn-color-text-on-default-background);\n",
              "  flex-grow: 1;\n",
              "}\n",
              "\n",
              "#sk-container-id-1 div.sk-parallel {\n",
              "  display: flex;\n",
              "  align-items: stretch;\n",
              "  justify-content: center;\n",
              "  background-color: var(--sklearn-color-background);\n",
              "  position: relative;\n",
              "}\n",
              "\n",
              "#sk-container-id-1 div.sk-parallel-item {\n",
              "  display: flex;\n",
              "  flex-direction: column;\n",
              "}\n",
              "\n",
              "#sk-container-id-1 div.sk-parallel-item:first-child::after {\n",
              "  align-self: flex-end;\n",
              "  width: 50%;\n",
              "}\n",
              "\n",
              "#sk-container-id-1 div.sk-parallel-item:last-child::after {\n",
              "  align-self: flex-start;\n",
              "  width: 50%;\n",
              "}\n",
              "\n",
              "#sk-container-id-1 div.sk-parallel-item:only-child::after {\n",
              "  width: 0;\n",
              "}\n",
              "\n",
              "/* Serial-specific style estimator block */\n",
              "\n",
              "#sk-container-id-1 div.sk-serial {\n",
              "  display: flex;\n",
              "  flex-direction: column;\n",
              "  align-items: center;\n",
              "  background-color: var(--sklearn-color-background);\n",
              "  padding-right: 1em;\n",
              "  padding-left: 1em;\n",
              "}\n",
              "\n",
              "\n",
              "/* Toggleable style: style used for estimator/Pipeline/ColumnTransformer box that is\n",
              "clickable and can be expanded/collapsed.\n",
              "- Pipeline and ColumnTransformer use this feature and define the default style\n",
              "- Estimators will overwrite some part of the style using the `sk-estimator` class\n",
              "*/\n",
              "\n",
              "/* Pipeline and ColumnTransformer style (default) */\n",
              "\n",
              "#sk-container-id-1 div.sk-toggleable {\n",
              "  /* Default theme specific background. It is overwritten whether we have a\n",
              "  specific estimator or a Pipeline/ColumnTransformer */\n",
              "  background-color: var(--sklearn-color-background);\n",
              "}\n",
              "\n",
              "/* Toggleable label */\n",
              "#sk-container-id-1 label.sk-toggleable__label {\n",
              "  cursor: pointer;\n",
              "  display: flex;\n",
              "  width: 100%;\n",
              "  margin-bottom: 0;\n",
              "  padding: 0.5em;\n",
              "  box-sizing: border-box;\n",
              "  text-align: center;\n",
              "  align-items: start;\n",
              "  justify-content: space-between;\n",
              "  gap: 0.5em;\n",
              "}\n",
              "\n",
              "#sk-container-id-1 label.sk-toggleable__label .caption {\n",
              "  font-size: 0.6rem;\n",
              "  font-weight: lighter;\n",
              "  color: var(--sklearn-color-text-muted);\n",
              "}\n",
              "\n",
              "#sk-container-id-1 label.sk-toggleable__label-arrow:before {\n",
              "  /* Arrow on the left of the label */\n",
              "  content: \"▸\";\n",
              "  float: left;\n",
              "  margin-right: 0.25em;\n",
              "  color: var(--sklearn-color-icon);\n",
              "}\n",
              "\n",
              "#sk-container-id-1 label.sk-toggleable__label-arrow:hover:before {\n",
              "  color: var(--sklearn-color-text);\n",
              "}\n",
              "\n",
              "/* Toggleable content - dropdown */\n",
              "\n",
              "#sk-container-id-1 div.sk-toggleable__content {\n",
              "  max-height: 0;\n",
              "  max-width: 0;\n",
              "  overflow: hidden;\n",
              "  text-align: left;\n",
              "  /* unfitted */\n",
              "  background-color: var(--sklearn-color-unfitted-level-0);\n",
              "}\n",
              "\n",
              "#sk-container-id-1 div.sk-toggleable__content.fitted {\n",
              "  /* fitted */\n",
              "  background-color: var(--sklearn-color-fitted-level-0);\n",
              "}\n",
              "\n",
              "#sk-container-id-1 div.sk-toggleable__content pre {\n",
              "  margin: 0.2em;\n",
              "  border-radius: 0.25em;\n",
              "  color: var(--sklearn-color-text);\n",
              "  /* unfitted */\n",
              "  background-color: var(--sklearn-color-unfitted-level-0);\n",
              "}\n",
              "\n",
              "#sk-container-id-1 div.sk-toggleable__content.fitted pre {\n",
              "  /* unfitted */\n",
              "  background-color: var(--sklearn-color-fitted-level-0);\n",
              "}\n",
              "\n",
              "#sk-container-id-1 input.sk-toggleable__control:checked~div.sk-toggleable__content {\n",
              "  /* Expand drop-down */\n",
              "  max-height: 200px;\n",
              "  max-width: 100%;\n",
              "  overflow: auto;\n",
              "}\n",
              "\n",
              "#sk-container-id-1 input.sk-toggleable__control:checked~label.sk-toggleable__label-arrow:before {\n",
              "  content: \"▾\";\n",
              "}\n",
              "\n",
              "/* Pipeline/ColumnTransformer-specific style */\n",
              "\n",
              "#sk-container-id-1 div.sk-label input.sk-toggleable__control:checked~label.sk-toggleable__label {\n",
              "  color: var(--sklearn-color-text);\n",
              "  background-color: var(--sklearn-color-unfitted-level-2);\n",
              "}\n",
              "\n",
              "#sk-container-id-1 div.sk-label.fitted input.sk-toggleable__control:checked~label.sk-toggleable__label {\n",
              "  background-color: var(--sklearn-color-fitted-level-2);\n",
              "}\n",
              "\n",
              "/* Estimator-specific style */\n",
              "\n",
              "/* Colorize estimator box */\n",
              "#sk-container-id-1 div.sk-estimator input.sk-toggleable__control:checked~label.sk-toggleable__label {\n",
              "  /* unfitted */\n",
              "  background-color: var(--sklearn-color-unfitted-level-2);\n",
              "}\n",
              "\n",
              "#sk-container-id-1 div.sk-estimator.fitted input.sk-toggleable__control:checked~label.sk-toggleable__label {\n",
              "  /* fitted */\n",
              "  background-color: var(--sklearn-color-fitted-level-2);\n",
              "}\n",
              "\n",
              "#sk-container-id-1 div.sk-label label.sk-toggleable__label,\n",
              "#sk-container-id-1 div.sk-label label {\n",
              "  /* The background is the default theme color */\n",
              "  color: var(--sklearn-color-text-on-default-background);\n",
              "}\n",
              "\n",
              "/* On hover, darken the color of the background */\n",
              "#sk-container-id-1 div.sk-label:hover label.sk-toggleable__label {\n",
              "  color: var(--sklearn-color-text);\n",
              "  background-color: var(--sklearn-color-unfitted-level-2);\n",
              "}\n",
              "\n",
              "/* Label box, darken color on hover, fitted */\n",
              "#sk-container-id-1 div.sk-label.fitted:hover label.sk-toggleable__label.fitted {\n",
              "  color: var(--sklearn-color-text);\n",
              "  background-color: var(--sklearn-color-fitted-level-2);\n",
              "}\n",
              "\n",
              "/* Estimator label */\n",
              "\n",
              "#sk-container-id-1 div.sk-label label {\n",
              "  font-family: monospace;\n",
              "  font-weight: bold;\n",
              "  display: inline-block;\n",
              "  line-height: 1.2em;\n",
              "}\n",
              "\n",
              "#sk-container-id-1 div.sk-label-container {\n",
              "  text-align: center;\n",
              "}\n",
              "\n",
              "/* Estimator-specific */\n",
              "#sk-container-id-1 div.sk-estimator {\n",
              "  font-family: monospace;\n",
              "  border: 1px dotted var(--sklearn-color-border-box);\n",
              "  border-radius: 0.25em;\n",
              "  box-sizing: border-box;\n",
              "  margin-bottom: 0.5em;\n",
              "  /* unfitted */\n",
              "  background-color: var(--sklearn-color-unfitted-level-0);\n",
              "}\n",
              "\n",
              "#sk-container-id-1 div.sk-estimator.fitted {\n",
              "  /* fitted */\n",
              "  background-color: var(--sklearn-color-fitted-level-0);\n",
              "}\n",
              "\n",
              "/* on hover */\n",
              "#sk-container-id-1 div.sk-estimator:hover {\n",
              "  /* unfitted */\n",
              "  background-color: var(--sklearn-color-unfitted-level-2);\n",
              "}\n",
              "\n",
              "#sk-container-id-1 div.sk-estimator.fitted:hover {\n",
              "  /* fitted */\n",
              "  background-color: var(--sklearn-color-fitted-level-2);\n",
              "}\n",
              "\n",
              "/* Specification for estimator info (e.g. \"i\" and \"?\") */\n",
              "\n",
              "/* Common style for \"i\" and \"?\" */\n",
              "\n",
              ".sk-estimator-doc-link,\n",
              "a:link.sk-estimator-doc-link,\n",
              "a:visited.sk-estimator-doc-link {\n",
              "  float: right;\n",
              "  font-size: smaller;\n",
              "  line-height: 1em;\n",
              "  font-family: monospace;\n",
              "  background-color: var(--sklearn-color-background);\n",
              "  border-radius: 1em;\n",
              "  height: 1em;\n",
              "  width: 1em;\n",
              "  text-decoration: none !important;\n",
              "  margin-left: 0.5em;\n",
              "  text-align: center;\n",
              "  /* unfitted */\n",
              "  border: var(--sklearn-color-unfitted-level-1) 1pt solid;\n",
              "  color: var(--sklearn-color-unfitted-level-1);\n",
              "}\n",
              "\n",
              ".sk-estimator-doc-link.fitted,\n",
              "a:link.sk-estimator-doc-link.fitted,\n",
              "a:visited.sk-estimator-doc-link.fitted {\n",
              "  /* fitted */\n",
              "  border: var(--sklearn-color-fitted-level-1) 1pt solid;\n",
              "  color: var(--sklearn-color-fitted-level-1);\n",
              "}\n",
              "\n",
              "/* On hover */\n",
              "div.sk-estimator:hover .sk-estimator-doc-link:hover,\n",
              ".sk-estimator-doc-link:hover,\n",
              "div.sk-label-container:hover .sk-estimator-doc-link:hover,\n",
              ".sk-estimator-doc-link:hover {\n",
              "  /* unfitted */\n",
              "  background-color: var(--sklearn-color-unfitted-level-3);\n",
              "  color: var(--sklearn-color-background);\n",
              "  text-decoration: none;\n",
              "}\n",
              "\n",
              "div.sk-estimator.fitted:hover .sk-estimator-doc-link.fitted:hover,\n",
              ".sk-estimator-doc-link.fitted:hover,\n",
              "div.sk-label-container:hover .sk-estimator-doc-link.fitted:hover,\n",
              ".sk-estimator-doc-link.fitted:hover {\n",
              "  /* fitted */\n",
              "  background-color: var(--sklearn-color-fitted-level-3);\n",
              "  color: var(--sklearn-color-background);\n",
              "  text-decoration: none;\n",
              "}\n",
              "\n",
              "/* Span, style for the box shown on hovering the info icon */\n",
              ".sk-estimator-doc-link span {\n",
              "  display: none;\n",
              "  z-index: 9999;\n",
              "  position: relative;\n",
              "  font-weight: normal;\n",
              "  right: .2ex;\n",
              "  padding: .5ex;\n",
              "  margin: .5ex;\n",
              "  width: min-content;\n",
              "  min-width: 20ex;\n",
              "  max-width: 50ex;\n",
              "  color: var(--sklearn-color-text);\n",
              "  box-shadow: 2pt 2pt 4pt #999;\n",
              "  /* unfitted */\n",
              "  background: var(--sklearn-color-unfitted-level-0);\n",
              "  border: .5pt solid var(--sklearn-color-unfitted-level-3);\n",
              "}\n",
              "\n",
              ".sk-estimator-doc-link.fitted span {\n",
              "  /* fitted */\n",
              "  background: var(--sklearn-color-fitted-level-0);\n",
              "  border: var(--sklearn-color-fitted-level-3);\n",
              "}\n",
              "\n",
              ".sk-estimator-doc-link:hover span {\n",
              "  display: block;\n",
              "}\n",
              "\n",
              "/* \"?\"-specific style due to the `<a>` HTML tag */\n",
              "\n",
              "#sk-container-id-1 a.estimator_doc_link {\n",
              "  float: right;\n",
              "  font-size: 1rem;\n",
              "  line-height: 1em;\n",
              "  font-family: monospace;\n",
              "  background-color: var(--sklearn-color-background);\n",
              "  border-radius: 1rem;\n",
              "  height: 1rem;\n",
              "  width: 1rem;\n",
              "  text-decoration: none;\n",
              "  /* unfitted */\n",
              "  color: var(--sklearn-color-unfitted-level-1);\n",
              "  border: var(--sklearn-color-unfitted-level-1) 1pt solid;\n",
              "}\n",
              "\n",
              "#sk-container-id-1 a.estimator_doc_link.fitted {\n",
              "  /* fitted */\n",
              "  border: var(--sklearn-color-fitted-level-1) 1pt solid;\n",
              "  color: var(--sklearn-color-fitted-level-1);\n",
              "}\n",
              "\n",
              "/* On hover */\n",
              "#sk-container-id-1 a.estimator_doc_link:hover {\n",
              "  /* unfitted */\n",
              "  background-color: var(--sklearn-color-unfitted-level-3);\n",
              "  color: var(--sklearn-color-background);\n",
              "  text-decoration: none;\n",
              "}\n",
              "\n",
              "#sk-container-id-1 a.estimator_doc_link.fitted:hover {\n",
              "  /* fitted */\n",
              "  background-color: var(--sklearn-color-fitted-level-3);\n",
              "}\n",
              "</style><div id=\"sk-container-id-1\" class=\"sk-top-container\"><div class=\"sk-text-repr-fallback\"><pre>LogisticRegression()</pre><b>In a Jupyter environment, please rerun this cell to show the HTML representation or trust the notebook. <br />On GitHub, the HTML representation is unable to render, please try loading this page with nbviewer.org.</b></div><div class=\"sk-container\" hidden><div class=\"sk-item\"><div class=\"sk-estimator fitted sk-toggleable\"><input class=\"sk-toggleable__control sk-hidden--visually\" id=\"sk-estimator-id-1\" type=\"checkbox\" checked><label for=\"sk-estimator-id-1\" class=\"sk-toggleable__label fitted sk-toggleable__label-arrow\"><div><div>LogisticRegression</div></div><div><a class=\"sk-estimator-doc-link fitted\" rel=\"noreferrer\" target=\"_blank\" href=\"https://scikit-learn.org/1.6/modules/generated/sklearn.linear_model.LogisticRegression.html\">?<span>Documentation for LogisticRegression</span></a><span class=\"sk-estimator-doc-link fitted\">i<span>Fitted</span></span></div></label><div class=\"sk-toggleable__content fitted\"><pre>LogisticRegression()</pre></div> </div></div></div></div>"
            ]
          },
          "metadata": {},
          "execution_count": 25
        }
      ]
    },
    {
      "cell_type": "code",
      "source": [
        "# 꽃잎의 너비가 0~3cm인 꽃에 대해 모델의 추정 확률\n",
        "import matplotlib.pyplot as plt\n",
        "import numpy as np\n",
        "\n",
        "X_new = np.linspace(0, 3, 1000).reshape(-1,1)\n",
        "y_proba = log_reg.predict_proba(X_new)\n",
        "plt.plot(X_new, y_proba[:, 1], \"g-\", label=\"Iris virginica\")\n",
        "plt.plot(X_new, y_proba[:, 0], \"b--\", label=\"Not Iris virginica\")\n",
        "\n",
        "# 다음은 이미지를 미려하게 출력하기 위한 맷플롯립 코드가 이어집니다."
      ],
      "metadata": {
        "colab": {
          "base_uri": "https://localhost:8080/",
          "height": 448
        },
        "id": "2mp-oIpohcdy",
        "outputId": "71470eed-9403-449b-b07d-e089915ec664"
      },
      "execution_count": 27,
      "outputs": [
        {
          "output_type": "execute_result",
          "data": {
            "text/plain": [
              "[<matplotlib.lines.Line2D at 0x7bce082ae990>]"
            ]
          },
          "metadata": {},
          "execution_count": 27
        },
        {
          "output_type": "display_data",
          "data": {
            "text/plain": [
              "<Figure size 640x480 with 1 Axes>"
            ],
            "image/png": "[encoded data removed]"
          },
          "metadata": {}
        }
      ]
    },
    {
      "cell_type": "code",
      "source": [
        "log_reg.predict([[1.7], [1.5]])"
      ],
      "metadata": {
        "colab": {
          "base_uri": "https://localhost:8080/"
        },
        "id": "p6qxWfFsh1rs",
        "outputId": "b55372bb-742b-4f39-872a-73312507ccf6"
      },
      "execution_count": 28,
      "outputs": [
        {
          "output_type": "execute_result",
          "data": {
            "text/plain": [
              "array([1, 0])"
            ]
          },
          "metadata": {},
          "execution_count": 28
        }
      ]
    },
    {
      "cell_type": "markdown",
      "source": [
        "### 6.4 소프트맥스 회귀\n",
        "\n",
        "소프트맥스 회귀: 여러 개의 이진 분류기를 훈련시켜 연결하지 않고 직접 다중 클래스를 지원하도록 일반화\n",
        "\n",
        "샘플 x가 주어지면 먼저 소프트맥스 회귀 모델이 각 클래스 k에 대한 점수 $s_k(x)$를 계산하고, 그 점수에 소프트맥스 함수를 적용하여 각 클래스의 확률을 추정.\n",
        "\n",
        "훈련 방법\n",
        "- 모델이 타깃 클래스에 대해서는 높은 확률을 추정하도록 만드는 것\n",
        "- 크로스 엔트로피 비용 함수를 최소화하는 것 > 타깃 클래스에 대해 낮은 확률을 예측하는 모델을 억제\n",
        "\n"
      ],
      "metadata": {
        "id": "aSy0DnVfiQHN"
      }
    },
    {
      "cell_type": "code",
      "source": [
        "X = iris[\"data\"][:, (2, 3)] # 꽃잎 길이, 꽃잎 너비\n",
        "y = iris[\"target\"]\n",
        "\n",
        "softmax_reg = LogisticRegression(multi_class=\"multinomial\", solver=\"lbfgs\", C=10)\n",
        "softmax_reg.fit(X, y)\n",
        "\n",
        "softmax_reg.predict([[5, 2]])"
      ],
      "metadata": {
        "colab": {
          "base_uri": "https://localhost:8080/"
        },
        "id": "k23WMfn7iDEL",
        "outputId": "6a725dbc-e30f-4e14-a941-3909bf90c19b"
      },
      "execution_count": 29,
      "outputs": [
        {
          "output_type": "stream",
          "name": "stderr",
          "text": [
            "/usr/local/lib/python3.11/dist-packages/sklearn/linear_model/_logistic.py:1247: FutureWarning: 'multi_class' was deprecated in version 1.5 and will be removed in 1.7. From then on, it will always use 'multinomial'. Leave it to its default value to avoid this warning.\n",
            "  warnings.warn(\n"
          ]
        },
        {
          "output_type": "execute_result",
          "data": {
            "text/plain": [
              "array([2])"
            ]
          },
          "metadata": {},
          "execution_count": 29
        }
      ]
    },
    {
      "cell_type": "code",
      "source": [
        "softmax_reg.predict_proba([[5, 2]])"
      ],
      "metadata": {
        "colab": {
          "base_uri": "https://localhost:8080/"
        },
        "id": "bSC9YluSj2pO",
        "outputId": "18c59800-6fc0-4572-eed5-3b7b124d1ccb"
      },
      "execution_count": 30,
      "outputs": [
        {
          "output_type": "execute_result",
          "data": {
            "text/plain": [
              "array([[6.21626375e-07, 5.73689803e-02, 9.42630398e-01]])"
            ]
          },
          "metadata": {},
          "execution_count": 30
        }
      ]
    }
  ]
}
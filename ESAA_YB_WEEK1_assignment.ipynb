{
  "nbformat": 4,
  "nbformat_minor": 5,
  "metadata": {
    "colab": {
      "provenance": [],
      "collapsed_sections": [
        "51898680"
      ],
      "include_colab_link": true
    },
    "language_info": {
      "name": "python"
    },
    "kernelspec": {
      "name": "python3",
      "display_name": "Python 3"
    }
  },
  "cells": [
    {
      "cell_type": "markdown",
      "metadata": {
        "id": "view-in-github",
        "colab_type": "text"
      },
      "source": [
        "<a href=\"https://colab.research.google.com/github/ewst22ParkSY/ESAA11_YB/blob/ESAA11_YB/ESAA_YB_WEEK1_assignment.ipynb\" target=\"_parent\"><img src=\"https://colab.research.google.com/assets/colab-badge.svg\" alt=\"Open In Colab\"/></a>"
      ]
    },
    {
      "cell_type": "markdown",
      "metadata": {
        "id": "bf79c78b"
      },
      "source": [
        "# Numpy exercises\n",
        "\n",
        "This is a collection of exercises that have been collected in the numpy mailing list, on stack overflow\n",
        "and in the numpy documentation. The goal of this collection is to offer a quick reference for both old\n",
        "and new users but also to provide a set of exercises for those who teach.\n",
        "\n",
        "\n",
        "If you find an error or think you've a better way to solve some of them, feel\n",
        "free to open an issue at <https://github.com/rougier/numpy-100>."
      ],
      "id": "bf79c78b"
    },
    {
      "cell_type": "markdown",
      "metadata": {
        "id": "8536e059"
      },
      "source": [
        "File automatically generated. See the documentation to update questions/answers/hints programmatically."
      ],
      "id": "8536e059"
    },
    {
      "cell_type": "markdown",
      "metadata": {
        "id": "017db353"
      },
      "source": [
        "#### 1. Import the numpy package under the name `np` (★☆☆)"
      ],
      "id": "017db353"
    },
    {
      "cell_type": "code",
      "metadata": {
        "id": "68182a76"
      },
      "source": [
        "import numpy as np"
      ],
      "id": "68182a76",
      "execution_count": 22,
      "outputs": []
    },
    {
      "cell_type": "markdown",
      "metadata": {
        "id": "46950f4f"
      },
      "source": [
        "#### 2. Print the numpy version and the configuration (★☆☆)"
      ],
      "id": "46950f4f"
    },
    {
      "cell_type": "code",
      "source": [
        "print(\"NumPy version:\", np.__version__)\n",
        "np.show_config()"
      ],
      "metadata": {
        "id": "T2NNljuPNL8z"
      },
      "id": "T2NNljuPNL8z",
      "execution_count": null,
      "outputs": []
    },
    {
      "cell_type": "markdown",
      "metadata": {
        "id": "e3c20b3d"
      },
      "source": [
        "#### 3. Create a null vector of size 10 (★☆☆)"
      ],
      "id": "e3c20b3d"
    },
    {
      "cell_type": "code",
      "metadata": {
        "id": "8a758bcf",
        "colab": {
          "base_uri": "https://localhost:8080/"
        },
        "outputId": "ba380b30-d7a8-43e6-8ba4-347d6c8b5c8f"
      },
      "source": [
        "null_vector = np.zeros(10)\n",
        "print(null_vector)"
      ],
      "id": "8a758bcf",
      "execution_count": 3,
      "outputs": [
        {
          "output_type": "stream",
          "name": "stdout",
          "text": [
            "[0. 0. 0. 0. 0. 0. 0. 0. 0. 0.]\n"
          ]
        }
      ]
    },
    {
      "cell_type": "markdown",
      "metadata": {
        "id": "b15a879f"
      },
      "source": [
        "#### 4. How to find the memory size of any array (★☆☆)"
      ],
      "id": "b15a879f"
    },
    {
      "cell_type": "code",
      "metadata": {
        "id": "1cc3cbc5",
        "colab": {
          "base_uri": "https://localhost:8080/"
        },
        "outputId": "9d9cef34-293c-484d-dfb4-51cb3b385a37"
      },
      "source": [
        "any_array = np.array([1, 2, 3, 4, 5])\n",
        "memory_size = any_array.nbytes\n",
        "print(memory_size)"
      ],
      "id": "1cc3cbc5",
      "execution_count": 8,
      "outputs": [
        {
          "output_type": "stream",
          "name": "stdout",
          "text": [
            "40\n"
          ]
        }
      ]
    },
    {
      "cell_type": "markdown",
      "metadata": {
        "id": "0b16cd77"
      },
      "source": [
        "#### 5. Create a null vector of size 10 but the fifth value which is 1 (★☆☆)"
      ],
      "id": "0b16cd77"
    },
    {
      "cell_type": "code",
      "metadata": {
        "id": "4d9b5975",
        "colab": {
          "base_uri": "https://localhost:8080/"
        },
        "outputId": "5055c109-b28d-449c-b4d6-da732d95efe2"
      },
      "source": [
        "array1 = np.zeros(10)\n",
        "array1[4]=1\n",
        "print(array1)"
      ],
      "id": "4d9b5975",
      "execution_count": 7,
      "outputs": [
        {
          "output_type": "stream",
          "name": "stdout",
          "text": [
            "[0. 0. 0. 0. 1. 0. 0. 0. 0. 0.]\n"
          ]
        }
      ]
    },
    {
      "cell_type": "markdown",
      "metadata": {
        "id": "782d4c77"
      },
      "source": [
        "#### 6. Create a vector with values ranging from 10 to 49 (★☆☆)"
      ],
      "id": "782d4c77"
    },
    {
      "cell_type": "code",
      "metadata": {
        "id": "5dbe1a08",
        "colab": {
          "base_uri": "https://localhost:8080/"
        },
        "outputId": "d9c4bc04-6ad9-44c2-d7d6-3dcb10d44f2f"
      },
      "source": [
        "array_10to49 = np.arange(start=10, stop=50)\n",
        "print(array_10to49)"
      ],
      "id": "5dbe1a08",
      "execution_count": 11,
      "outputs": [
        {
          "output_type": "stream",
          "name": "stdout",
          "text": [
            "[10 11 12 13 14 15 16 17 18 19 20 21 22 23 24 25 26 27 28 29 30 31 32 33\n",
            " 34 35 36 37 38 39 40 41 42 43 44 45 46 47 48 49]\n"
          ]
        }
      ]
    },
    {
      "cell_type": "markdown",
      "metadata": {
        "id": "48d48f01"
      },
      "source": [
        "#### 7. Reverse a vector (first element becomes last) (★☆☆)"
      ],
      "id": "48d48f01"
    },
    {
      "cell_type": "code",
      "metadata": {
        "id": "3ed233e7",
        "colab": {
          "base_uri": "https://localhost:8080/"
        },
        "outputId": "03a35285-c840-4a6c-ab1a-b8dd4f3ecf46"
      },
      "source": [
        "array1 = np.arange(10)\n",
        "R_vector = array1[::-1]\n",
        "print(R_vector)"
      ],
      "id": "3ed233e7",
      "execution_count": 12,
      "outputs": [
        {
          "output_type": "stream",
          "name": "stdout",
          "text": [
            "[9 8 7 6 5 4 3 2 1 0]\n"
          ]
        }
      ]
    },
    {
      "cell_type": "markdown",
      "metadata": {
        "id": "4fa39382"
      },
      "source": [
        "#### 8. Create a 3x3 matrix with values ranging from 0 to 8 (★☆☆)"
      ],
      "id": "4fa39382"
    },
    {
      "cell_type": "code",
      "metadata": {
        "id": "c97757ec",
        "colab": {
          "base_uri": "https://localhost:8080/"
        },
        "outputId": "36489733-d072-41ad-90af-5176258cc85b"
      },
      "source": [
        "array2 = np.arange(0,9)\n",
        "matrix = array2.reshape(3, 3)\n",
        "print(matrix)"
      ],
      "id": "c97757ec",
      "execution_count": 15,
      "outputs": [
        {
          "output_type": "stream",
          "name": "stdout",
          "text": [
            "[[0 1 2]\n",
            " [3 4 5]\n",
            " [6 7 8]]\n"
          ]
        }
      ]
    },
    {
      "cell_type": "markdown",
      "metadata": {
        "id": "da64551a"
      },
      "source": [
        "#### 9. Find indices of non-zero elements from [1,2,0,0,4,0] (★☆☆)"
      ],
      "id": "da64551a"
    },
    {
      "cell_type": "code",
      "metadata": {
        "id": "327f7adb",
        "colab": {
          "base_uri": "https://localhost:8080/"
        },
        "outputId": "328e26f2-c986-4442-f8fc-87ba7b2ecd84"
      },
      "source": [
        "array3 = np.array([1, 2, 0, 0, 4, 0])\n",
        "indices = array3[array3!=0]\n",
        "print(indices)"
      ],
      "id": "327f7adb",
      "execution_count": 18,
      "outputs": [
        {
          "output_type": "stream",
          "name": "stdout",
          "text": [
            "[1 2 4]\n"
          ]
        }
      ]
    },
    {
      "cell_type": "markdown",
      "metadata": {
        "id": "f89d9c9e"
      },
      "source": [
        "#### 10. Create a 3x3 identity matrix (★☆☆)\n",
        "Hint : identity & eye, try to use 'help' to learn how to use two functions of numpy"
      ],
      "id": "f89d9c9e"
    },
    {
      "cell_type": "code",
      "source": [
        "I_1 = np.identity(3)\n",
        "I_2 = np.eye(3)\n",
        "print(I_1)\n",
        "print()\n",
        "print(I_2)"
      ],
      "metadata": {
        "colab": {
          "base_uri": "https://localhost:8080/"
        },
        "id": "fQFB1sJ8Q8cj",
        "outputId": "9be92700-7989-453b-d1fe-525707fba4ef"
      },
      "id": "fQFB1sJ8Q8cj",
      "execution_count": 25,
      "outputs": [
        {
          "output_type": "stream",
          "name": "stdout",
          "text": [
            "[[1. 0. 0.]\n",
            " [0. 1. 0.]\n",
            " [0. 0. 1.]]\n",
            "\n",
            "[[1. 0. 0.]\n",
            " [0. 1. 0.]\n",
            " [0. 0. 1.]]\n"
          ]
        }
      ]
    },
    {
      "cell_type": "markdown",
      "metadata": {
        "id": "7e44c6fa"
      },
      "source": [
        "#### 11. Create a 3x3x3 array with random values (★☆☆)\n",
        "Hint : numpy.random.random"
      ],
      "id": "7e44c6fa"
    },
    {
      "cell_type": "code",
      "metadata": {
        "id": "1cb3dddf",
        "colab": {
          "base_uri": "https://localhost:8080/"
        },
        "outputId": "0d3bae40-90d2-4cb1-feda-74b97086eef2"
      },
      "source": [
        "random_array = np.random.random((3,3,3))\n",
        "print(random_array)"
      ],
      "id": "1cb3dddf",
      "execution_count": 28,
      "outputs": [
        {
          "output_type": "stream",
          "name": "stdout",
          "text": [
            "[[[0.58232541 0.31144233 0.4168942 ]\n",
            "  [0.21643133 0.81563032 0.78607722]\n",
            "  [0.70462293 0.05943895 0.56795375]]\n",
            "\n",
            " [[0.32245125 0.38136569 0.69760895]\n",
            "  [0.1717989  0.71190428 0.32116237]\n",
            "  [0.15189304 0.73753329 0.09778347]]\n",
            "\n",
            " [[0.85078433 0.39323329 0.59314506]\n",
            "  [0.62980642 0.20560946 0.2858886 ]\n",
            "  [0.43703488 0.58069713 0.13808302]]]\n"
          ]
        }
      ]
    },
    {
      "cell_type": "markdown",
      "metadata": {
        "id": "13c5928c"
      },
      "source": [
        "#### 12. Create a 10x10 array with random values and find the **min**imum and **max**imum values (★☆☆)"
      ],
      "id": "13c5928c"
    },
    {
      "cell_type": "code",
      "metadata": {
        "id": "911c9b93",
        "colab": {
          "base_uri": "https://localhost:8080/"
        },
        "outputId": "a7893362-c4f2-4cdd-842b-962a34b0df8c"
      },
      "source": [
        "random_array_10x10 = np.random.random((10,10))\n",
        "print(random_array_10x10)\n",
        "minimum = np.min(random_array_10x10)\n",
        "maximum = np.max(random_array_10x10)\n",
        "print()\n",
        "print('minimum of random_array_10x10:', minimum)\n",
        "print()\n",
        "print('maximum of random_array_10x10:', maximum)"
      ],
      "id": "911c9b93",
      "execution_count": 37,
      "outputs": [
        {
          "output_type": "stream",
          "name": "stdout",
          "text": [
            "[[0.61427874 0.89160746 0.09653309 0.282558   0.54078957 0.46732297\n",
            "  0.40395663 0.68640192 0.2147031  0.60672984]\n",
            " [0.50065307 0.94007279 0.8709162  0.28920662 0.46848992 0.13146511\n",
            "  0.61394722 0.76477191 0.18674857 0.79855251]\n",
            " [0.73260959 0.61565767 0.94205582 0.57791247 0.0272766  0.77423027\n",
            "  0.97999156 0.63156261 0.79606211 0.48045338]\n",
            " [0.68352814 0.7069891  0.7674681  0.68690262 0.82624699 0.49262889\n",
            "  0.06784104 0.30088586 0.42098428 0.59639499]\n",
            " [0.70611238 0.96545389 0.13471319 0.24886424 0.24978777 0.47750052\n",
            "  0.04831057 0.17991939 0.11105768 0.87490123]\n",
            " [0.85814924 0.80512435 0.61167181 0.32646558 0.65160785 0.46054811\n",
            "  0.58159663 0.04574924 0.70804004 0.51056626]\n",
            " [0.26915722 0.68640941 0.27719214 0.18159916 0.867981   0.31935376\n",
            "  0.53959875 0.42766491 0.65979906 0.90219163]\n",
            " [0.20216807 0.73212551 0.51724522 0.19855844 0.28861071 0.73659821\n",
            "  0.5882992  0.80373631 0.91791616 0.10892421]\n",
            " [0.2010967  0.72001095 0.930778   0.81625241 0.55557144 0.3083774\n",
            "  0.38824484 0.29651858 0.02580812 0.05528547]\n",
            " [0.53428018 0.40797868 0.0631484  0.57190657 0.39260649 0.69718587\n",
            "  0.17770912 0.92585151 0.31828425 0.97382112]]\n",
            "\n",
            "minimum of random_array_10x10: 0.02580812049304171\n",
            "\n",
            "maximum of random_array_10x10: 0.9799915632984619\n"
          ]
        }
      ]
    },
    {
      "cell_type": "markdown",
      "metadata": {
        "id": "3fa2e461"
      },
      "source": [
        "#### 13. Create a random vector of size 30 and find the **mean** value (★☆☆)"
      ],
      "id": "3fa2e461"
    },
    {
      "cell_type": "code",
      "metadata": {
        "id": "323eb38a",
        "colab": {
          "base_uri": "https://localhost:8080/"
        },
        "outputId": "3faa742c-1ae9-400d-b5a8-2e1151dc7159"
      },
      "source": [
        "array30 = np.random.random(30)\n",
        "print('mean value:', np.mean(array30))"
      ],
      "id": "323eb38a",
      "execution_count": 35,
      "outputs": [
        {
          "output_type": "stream",
          "name": "stdout",
          "text": [
            "mean value: 0.5621942926978655\n"
          ]
        }
      ]
    },
    {
      "cell_type": "markdown",
      "metadata": {
        "id": "73f7a549"
      },
      "source": [
        "#### 14. Create a 2d array with 1 on the border and 0 inside (★☆☆)"
      ],
      "id": "73f7a549"
    },
    {
      "cell_type": "code",
      "metadata": {
        "id": "e3a6807d",
        "colab": {
          "base_uri": "https://localhost:8080/"
        },
        "outputId": "74f86c3a-722e-4945-9862-5b79be1c851d"
      },
      "source": [
        "array01 = np.ones((4,4))\n",
        "array01[0, :] = 0\n",
        "array01[-1, :] = 0\n",
        "array01[:, 0] = 0\n",
        "array01[:, -1] = 0\n",
        "print(array01)"
      ],
      "id": "e3a6807d",
      "execution_count": 41,
      "outputs": [
        {
          "output_type": "stream",
          "name": "stdout",
          "text": [
            "[[0. 0. 0. 0.]\n",
            " [0. 1. 1. 0.]\n",
            " [0. 1. 1. 0.]\n",
            " [0. 0. 0. 0.]]\n"
          ]
        }
      ]
    },
    {
      "cell_type": "markdown",
      "metadata": {
        "id": "d6ad1a9f"
      },
      "source": [
        "#### 15. What is the result of the following expression? (★☆☆)\n",
        "```python\n",
        "0 * np.nan\n",
        "np.nan == np.nan\n",
        "np.inf > np.nan\n",
        "np.nan - np.nan\n",
        "np.nan in set([np.nan])\n",
        "0.3 == 3 * 0.1\n",
        "```"
      ],
      "id": "d6ad1a9f"
    },
    {
      "cell_type": "markdown",
      "source": [
        "nan / False / False / False / True / False"
      ],
      "metadata": {
        "id": "21j6C96sEbrB"
      },
      "id": "21j6C96sEbrB"
    },
    {
      "cell_type": "markdown",
      "metadata": {
        "id": "e3a7ba7f"
      },
      "source": [
        "#### 16. Create a 5x5 matrix with values 1,2,3,4 just below the **diag**onal (★☆☆)"
      ],
      "id": "e3a7ba7f"
    },
    {
      "cell_type": "code",
      "metadata": {
        "id": "01d8e257",
        "colab": {
          "base_uri": "https://localhost:8080/"
        },
        "outputId": "15680115-de63-40c5-fdea-870ecb72f9bc"
      },
      "source": [
        "array4 = np.zeros([5,5])\n",
        "array4[1,0] = 1\n",
        "array4[2,1] = 2\n",
        "array4[3,2] = 3\n",
        "array4[4,3] = 4\n",
        "print(array4)\n"
      ],
      "id": "01d8e257",
      "execution_count": 8,
      "outputs": [
        {
          "output_type": "stream",
          "name": "stdout",
          "text": [
            "[[0. 0. 0. 0. 0.]\n",
            " [1. 0. 0. 0. 0.]\n",
            " [0. 2. 0. 0. 0.]\n",
            " [0. 0. 3. 0. 0.]\n",
            " [0. 0. 0. 4. 0.]]\n"
          ]
        }
      ]
    },
    {
      "cell_type": "markdown",
      "metadata": {
        "id": "6d17ab5d"
      },
      "source": [
        "#### 17. Create a 8x8 matrix and fill it with a checkerboard pattern (★☆☆)"
      ],
      "id": "6d17ab5d"
    },
    {
      "cell_type": "code",
      "metadata": {
        "id": "841373cd",
        "colab": {
          "base_uri": "https://localhost:8080/"
        },
        "outputId": "3f0d58c9-7340-418c-d9b1-e7336623d2a5"
      },
      "source": [
        "array5 = np.zeros([8,8])\n",
        "array5[1::2, ::2] = 1\n",
        "array5[::2, 1::2] = 1\n",
        "print(array5)"
      ],
      "id": "841373cd",
      "execution_count": 13,
      "outputs": [
        {
          "output_type": "stream",
          "name": "stdout",
          "text": [
            "[[0. 1. 0. 1. 0. 1. 0. 1.]\n",
            " [1. 0. 1. 0. 1. 0. 1. 0.]\n",
            " [0. 1. 0. 1. 0. 1. 0. 1.]\n",
            " [1. 0. 1. 0. 1. 0. 1. 0.]\n",
            " [0. 1. 0. 1. 0. 1. 0. 1.]\n",
            " [1. 0. 1. 0. 1. 0. 1. 0.]\n",
            " [0. 1. 0. 1. 0. 1. 0. 1.]\n",
            " [1. 0. 1. 0. 1. 0. 1. 0.]]\n"
          ]
        }
      ]
    },
    {
      "cell_type": "markdown",
      "metadata": {
        "id": "8837119b"
      },
      "source": [
        "#### 18. Consider a (6,7,8) shape array, what is the index (x,y,z) of the 100th element? (★☆☆)\n",
        "Hint : use 'numpy.unravel_index(value, (x, y, z))"
      ],
      "id": "8837119b"
    },
    {
      "cell_type": "code",
      "metadata": {
        "id": "2c0d16f1",
        "colab": {
          "base_uri": "https://localhost:8080/"
        },
        "outputId": "322c7369-f49b-40bf-a561-2449d8c132df"
      },
      "source": [
        "shape = (6,7,8)\n",
        "index = np.unravel_index(100, shape)\n",
        "print(index)"
      ],
      "id": "2c0d16f1",
      "execution_count": 14,
      "outputs": [
        {
          "output_type": "stream",
          "name": "stdout",
          "text": [
            "(1, 5, 4)\n"
          ]
        }
      ]
    },
    {
      "cell_type": "markdown",
      "metadata": {
        "id": "391791e0"
      },
      "source": [
        "#### 19. Normalize a 5x5 random matrix (★☆☆)\n",
        "Hint : $Z = \\frac{X - \\overline{X}}{S}$"
      ],
      "id": "391791e0"
    },
    {
      "cell_type": "code",
      "metadata": {
        "id": "f6533d39",
        "colab": {
          "base_uri": "https://localhost:8080/"
        },
        "outputId": "e368c2c1-245c-4e74-d69b-d61c9789264e"
      },
      "source": [
        "array6 = np.random.random((5,5))\n",
        "a6_std = np.std(array6)\n",
        "a6_ave = np.mean(array6)\n",
        "normalized_array = (array6 - a6_ave) / a6_std\n",
        "print(normalized_array)"
      ],
      "id": "f6533d39",
      "execution_count": 16,
      "outputs": [
        {
          "output_type": "stream",
          "name": "stdout",
          "text": [
            "[[-1.05463623  0.9127166   0.53095258  0.07994659  1.10158333]\n",
            " [-1.27569953  1.53759683 -0.65958952 -1.71122962  0.38399925]\n",
            " [ 0.77448534  1.42431326 -1.67613642 -1.03066543  0.50984499]\n",
            " [-0.72799822 -0.70799875  0.36191576 -1.30400319  0.7396257 ]\n",
            " [ 1.35676709  0.57453133  0.8734482  -0.04161626 -0.97215369]]\n"
          ]
        }
      ]
    },
    {
      "cell_type": "markdown",
      "metadata": {
        "id": "1e74d39e"
      },
      "source": [
        "#### 20. Create a custom dtype that describes a color as four unsigned bytes (RGBA) (★☆☆)\n",
        "Hint : modify the code below\n",
        "```python\n",
        "numpy.dtype([(value, numpy.ubyte), … , (value, numpy.ubyte)])\n",
        "```"
      ],
      "id": "1e74d39e"
    },
    {
      "cell_type": "code",
      "metadata": {
        "id": "3f639d33",
        "colab": {
          "base_uri": "https://localhost:8080/"
        },
        "outputId": "ee58c6e7-f296-4785-d43c-bca4722fc956"
      },
      "source": [
        "RGBA = np.dtype([('Red', np.ubyte), ('Green', np.ubyte) , ('Blue', np.ubyte), ('Alpha', np.ubyte)])\n",
        "print(RGBA)"
      ],
      "id": "3f639d33",
      "execution_count": 21,
      "outputs": [
        {
          "output_type": "stream",
          "name": "stdout",
          "text": [
            "[('Red', 'u1'), ('Green', 'u1'), ('Blue', 'u1'), ('Alpha', 'u1')]\n"
          ]
        }
      ]
    }
  ]
}